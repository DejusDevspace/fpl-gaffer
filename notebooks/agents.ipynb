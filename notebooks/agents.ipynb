{
 "cells": [
  {
   "cell_type": "markdown",
   "id": "f65f59e1",
   "metadata": {},
   "source": [
    "# Creating and Testing Agent Workflows for FPL Gaffer"
   ]
  },
  {
   "cell_type": "markdown",
   "id": "ebcaecee",
   "metadata": {},
   "source": [
    "## FPL Data Collector Agent"
   ]
  },
  {
   "cell_type": "markdown",
   "id": "8cf7533d",
   "metadata": {},
   "source": [
    "#### State"
   ]
  },
  {
   "cell_type": "code",
   "execution_count": null,
   "id": "c9a9e4f2",
   "metadata": {},
   "outputs": [],
   "source": [
    "from typing import Dict, List, Optional, Any\n",
    "from pydantic import BaseModel\n",
    "from datetime import datetime"
   ]
  },
  {
   "cell_type": "code",
   "execution_count": null,
   "id": "63054fe4",
   "metadata": {},
   "outputs": [],
   "source": [
    "# Define the workflow state\n",
    "class WorkflowState(BaseModel):\n",
    "    gameweek: int\n",
    "    gameweek_deadline: datetime\n",
    "    fpl_api_data: Dict[str, Any] = {}\n",
    "    news_searcher_data: List[str] = []\n",
    "    user_data: Dict = {}\n",
    "    recommendations: List[Dict] = []\n",
    "    generated_message: str = \"\"\n",
    "    errors: List[str] = []\n"
   ]
  },
  {
   "cell_type": "markdown",
   "id": "95e2bba9",
   "metadata": {},
   "source": [
    "#### Tools"
   ]
  },
  {
   "cell_type": "code",
   "execution_count": null,
   "id": "1abc4711",
   "metadata": {},
   "outputs": [],
   "source": [
    "# FPL API tool\n",
    "import httpx\n",
    "from typing import Dict\n",
    "\n",
    "class FPLOfficialAPI:\n",
    "    def __init__(self):\n",
    "        self.base_url = \"https://fantasy.premierleague.com/api\"\n",
    "        self.session = httpx.AsyncClient()\n",
    "\n",
    "    async def get_bootstrap_data(self) -> Dict:\n",
    "        try:\n",
    "            response = await self.session.get(\"{}/bootstrap-static/\".format(self.base_url))\n",
    "            response.raise_for_status()\n",
    "            return response.json()\n",
    "        except Exception as e:\n",
    "            print(\"Error fetching bootstrap data: {}\".format(e))\n",
    "            return {}\n",
    "\n",
    "    async def get_gameweek_data(self) -> Dict:\n",
    "        bootstrap_data = await self.get_bootstrap_data()\n",
    "        if not bootstrap_data:\n",
    "            return {}\n",
    "\n",
    "        # Get current gameweek from bootstrap data\n",
    "        current_gw = None\n",
    "        for gw in bootstrap_data.get(\"events\", []):\n",
    "            if gw[\"is_current\"]:\n",
    "                current_gw = gw\n",
    "                break\n",
    "\n",
    "        # Get fixtures for the current gameweek\n",
    "        fixtures = await self.get_fixtures()\n",
    "        if not fixtures:\n",
    "            return {}\n",
    "\n",
    "        # Filter fixtures for the current gameweek\n",
    "        current_gw_fixtures = [\n",
    "            fixture for fixture in fixtures if fixture.get(\"event\") == current_gw.get(\"id\")\n",
    "        ] if current_gw else []\n",
    "\n",
    "        return {\n",
    "            \"gameweek\": current_gw.get(\"id\") if current_gw else None,\n",
    "            \"deadline\": current_gw.get(\"deadline_time\") if current_gw else None,\n",
    "            \"finished\": current_gw.get(\"finished\") if current_gw else False,\n",
    "            \"fixtures\": current_gw_fixtures\n",
    "        }\n",
    "\n",
    "    async def get_fixtures(self) -> Dict:\n",
    "        try:\n",
    "            response = await self.session.get(\"{}/fixtures/\".format(self.base_url))\n",
    "            response.raise_for_status()\n",
    "            return response.json()\n",
    "        except Exception as e:\n",
    "            print(\"Error fetching fixtures: {}\".format(e))\n",
    "            return {}\n"
   ]
  },
  {
   "cell_type": "code",
   "execution_count": null,
   "id": "dc9e1525",
   "metadata": {},
   "outputs": [],
   "source": [
    "# FPL News Searcher tool\n",
    "import os\n",
    "from tavily import TavilyClient\n",
    "from typing import Optional, List, Dict\n",
    "from langchain.schema import Document\n",
    "from langchain_community.document_loaders import UnstructuredURLLoader\n",
    "from asyncio import to_thread\n",
    "from dotenv import load_dotenv\n",
    "\n",
    "#  Load environment variables\n",
    "_ = load_dotenv()\n",
    "\n",
    "\n",
    "class FPLNewsSearcher:\n",
    "    # Required env variables for FPL news searcher\n",
    "    REQUIRED_ENV_VARS = [\"TAVILY_API_KEY\"]\n",
    "\n",
    "    def __init__(self):\n",
    "        self.client =  TavilyClient(api_key=os.getenv(\"TAVILY_API_KEY\"))\n",
    "        self.news_docs: List[Document] = []\n",
    "\n",
    "    def search_news(self) -> List[Document]:\n",
    "        self._search_injury_news()\n",
    "        self._search_team_news()\n",
    "        self._search_fpl_news()\n",
    "        return self.news_docs\n",
    "\n",
    "    def _search(self, query: str) -> Dict:\n",
    "        return self.client.search(\n",
    "            query=query,\n",
    "            search_depth=\"advanced\",\n",
    "            max_results=3,\n",
    "            topic=\"news\",\n",
    "            include_raw_content=False\n",
    "        )\n",
    "\n",
    "    def _search_and_load_docs(self, queries: List[str], category: str = None) -> None:\n",
    "        for query in queries:\n",
    "            # Get the tavily api search results for each query\n",
    "            response = self._search(query)\n",
    "\n",
    "            # Get the urls from the search results\n",
    "            urls = [result[\"url\"] for result in response.get(\"results\", []) if \"url\" in result]\n",
    "\n",
    "            if urls:\n",
    "                # Fetch and parse the content from each URL\n",
    "                loader = UnstructuredURLLoader(urls=urls)\n",
    "                loaded_docs = to_thread(loader.load)\n",
    "\n",
    "                # Update documents' metadata\n",
    "                for i, d in enumerate(loaded_docs):\n",
    "                    d.metadata.update({\n",
    "                        \"source\": urls[i],\n",
    "                        \"query\": query,\n",
    "                        \"category\": category\n",
    "                    })\n",
    "\n",
    "                # Extend the news_docs list with the new documents\n",
    "                self.news_docs.extend(loaded_docs)\n",
    "\n",
    "    def _search_injury_news(self) -> None:\n",
    "        self._search_and_load_docs([\n",
    "            \"Premier League team news injury reports press conference updates\",\n",
    "        ], category=\"injury\")\n",
    "\n",
    "    def _search_team_news(self) -> None:\n",
    "        self._search_and_load_docs([\n",
    "            \"Fantasy Premier League benching risks and squad news\",\n",
    "            \"FPL rotation risk players starting XI updates\",\n",
    "        ], category=\"team\")\n",
    "\n",
    "    def _search_fpl_news(self) -> None:\n",
    "        self._search_and_load_docs([\n",
    "            \"FPL Scout selection and transfer recommendations latest\",\n",
    "            \"FPL Scout best tips and advice latest\",\n",
    "            \"FPL captain picks latest expert analysis\"\n",
    "        ], category=\"fpl\")\n"
   ]
  },
  {
   "cell_type": "markdown",
   "id": "40d934c1",
   "metadata": {},
   "source": [
    "#### Agents"
   ]
  },
  {
   "cell_type": "code",
   "execution_count": null,
   "id": "57fa2edf",
   "metadata": {},
   "outputs": [],
   "source": [
    "# Data collector agent\n",
    "class FPLDataCollector:\n",
    "    pass"
   ]
  },
  {
   "cell_type": "code",
   "execution_count": null,
   "id": "4f927603",
   "metadata": {},
   "outputs": [],
   "source": [
    "# Data analysis agent\n",
    "class FPLDataAnalyzer:\n",
    "    pass"
   ]
  },
  {
   "cell_type": "markdown",
   "id": "756d1c3b",
   "metadata": {},
   "source": [
    "#### Nodes"
   ]
  },
  {
   "cell_type": "code",
   "execution_count": null,
   "id": "118c01a9",
   "metadata": {},
   "outputs": [],
   "source": [
    "## Nodes"
   ]
  },
  {
   "cell_type": "markdown",
   "id": "4bf0bade",
   "metadata": {},
   "source": [
    "#### Graph"
   ]
  },
  {
   "cell_type": "code",
   "execution_count": null,
   "id": "e5d18345",
   "metadata": {},
   "outputs": [],
   "source": []
  }
 ],
 "metadata": {
  "kernelspec": {
   "display_name": "fpl-gaffer",
   "language": "python",
   "name": "python3"
  },
  "language_info": {
   "codemirror_mode": {
    "name": "ipython",
    "version": 3
   },
   "file_extension": ".py",
   "mimetype": "text/x-python",
   "name": "python",
   "nbconvert_exporter": "python",
   "pygments_lexer": "ipython3",
   "version": "3.13.5"
  }
 },
 "nbformat": 4,
 "nbformat_minor": 5
}
