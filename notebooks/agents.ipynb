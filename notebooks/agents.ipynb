{
 "cells": [
  {
   "cell_type": "markdown",
   "id": "f65f59e1",
   "metadata": {},
   "source": [
    "# Creating and Testing Agent Workflows for FPL Gaffer"
   ]
  },
  {
   "cell_type": "code",
   "execution_count": null,
   "id": "63054fe4",
   "metadata": {
    "vscode": {
     "languageId": "plaintext"
    }
   },
   "outputs": [],
   "source": []
  }
 ],
 "metadata": {
  "language_info": {
   "name": "python"
  }
 },
 "nbformat": 4,
 "nbformat_minor": 5
}
