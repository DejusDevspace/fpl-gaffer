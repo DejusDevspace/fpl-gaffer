{
 "cells": [
  {
   "cell_type": "markdown",
   "id": "4119d3b1",
   "metadata": {},
   "source": [
    "## FPL Gaffer Data Collection Workflow"
   ]
  },
  {
   "cell_type": "markdown",
   "id": "8fab6ec8",
   "metadata": {},
   "source": [
    "This notebook shows how the data collection works. It shows the different nodes for data extraction from fpl, user info, and search data."
   ]
  },
  {
   "cell_type": "markdown",
   "id": "961237f6",
   "metadata": {},
   "source": [
    "### 🛠️ Tools and helpers"
   ]
  },
  {
   "cell_type": "code",
   "execution_count": null,
   "id": "8bb4e75a",
   "metadata": {},
   "outputs": [],
   "source": [
    "import httpx"
   ]
  },
  {
   "cell_type": "code",
   "execution_count": null,
   "id": "9ac8b728",
   "metadata": {},
   "outputs": [],
   "source": [
    "class FPLOfficialAPI:\n",
    "    def __init__(self, base_url=\"https://fantasy.premierleague.com/api\"):\n",
    "        self.base_url = base_url\n",
    "        self.client = httpx.Client()\n",
    "\n",
    "    def _get(self, endpoint):\n",
    "        url = f\"{self.base_url}{endpoint}\"\n",
    "        r = self.client.get(url)\n",
    "        r.raise_for_status()\n",
    "        return r.json()\n",
    "\n",
    "    def get_bootstrap_data(self):\n",
    "        return self._get(\"/bootstrap-static/\")\n",
    "\n",
    "    def get_fixtures(self):\n",
    "        return self._get(\"/fixtures/\")\n",
    "\n",
    "    def get_manager_data(self, manager_id: int):\n",
    "        return self._get(f\"/entry/{manager_id}/\")\n",
    "\n",
    "    def get_gameweek_picks(self, manager_id: int, gw: int):\n",
    "        return self._get(f\"/entry/{manager_id}/event/{gw}/picks/\")"
   ]
  },
  {
   "cell_type": "markdown",
   "id": "484887f4",
   "metadata": {},
   "source": [
    "This tool handles all interactions with the FPL official API. The tool can be found in the `src/fpl_gaffer/tools/fpl_api.py` file."
   ]
  },
  {
   "cell_type": "code",
   "execution_count": null,
   "id": "4a72ce78",
   "metadata": {},
   "outputs": [],
   "source": [
    "def build_mappings(boostrap_data):\n",
    "    players_mapping = {\n",
    "        player[\"id\"]: {\n",
    "            \"name\": f\"{player['first_name']} {player['second_name']}\",\n",
    "            \"team_id\": player[\"team\"],\n",
    "            \"position_id\": player[\"element_type\"],\n",
    "            \"current_price\": player[\"now_cost\"] / 10,\n",
    "            \"status\": player[\"status\"],\n",
    "        }\n",
    "        for player in boostrap_data.get(\"elements\", [])\n",
    "    }\n",
    "\n",
    "    teams_mapping = {team[\"id\"]: team[\"name\"] for team in boostrap_data.get(\"teams\", [])}\n",
    "    positions_mapping = {position[\"id\"]: position[\"singular_name_short\"]for position in boostrap_data.get(\"element_types\", [])}\n",
    "\n",
    "    return players_mapping, teams_mapping, positions_mapping\n",
    "\n",
    "def map_player(player_id, players, teams, positions):\n",
    "    player_info = players.get(player_id, {})\n",
    "\n",
    "    if not player_info:\n",
    "        return {}\n",
    "\n",
    "    return {\n",
    "        \"id\": player_id,\n",
    "        \"name\": player_info[\"name\"],\n",
    "        \"team\": teams.get(player_info[\"team_id\"], \"Unknown Team\"),\n",
    "        \"position\": positions.get(player_info[\"position_id\"], \"Unknown Position\"),\n",
    "        \"current_price\": player_info[\"current_price\"],\n",
    "        \"status\": player_info[\"status\"]\n",
    "    }\n",
    "\n",
    "def map_squad(picks, players, teams, positions):\n",
    "    mapped_team = []\n",
    "\n",
    "    for pick in picks:\n",
    "        mapped_team.append({\n",
    "            **map_player(pick[\"element\"], players, teams, positions),\n",
    "            \"multiplier\": pick[\"multiplier\"],\n",
    "            \"is_captain\": pick.get(\"is_captain\", False),\n",
    "            \"is_vice_captain\": pick.get(\"is_vice_captain\", False),\n",
    "        })\n",
    "\n",
    "    return mapped_team"
   ]
  },
  {
   "cell_type": "markdown",
   "id": "d10dfafb",
   "metadata": {},
   "source": [
    "These are the mapping helpers for teams, positons and player mappings. The mapper utility can be found in the `src/fpl_gaffer/utils/fpl_mapper.py` file."
   ]
  },
  {
   "cell_type": "markdown",
   "id": "d490e73d",
   "metadata": {},
   "source": [
    "### FPL Data Collection"
   ]
  },
  {
   "cell_type": "code",
   "execution_count": null,
   "id": "10b51687",
   "metadata": {},
   "outputs": [],
   "source": [
    "def get_gameweek_data(api: FPLOfficialAPI):\n",
    "    bootstrap_data = api.get_bootstrap_data()\n",
    "    _, teams, _ = build_mappings(bootstrap_data)\n",
    "\n",
    "    next_gw = next((gw for gw in bootstrap_data.get(\"events\", []) if gw[\"is_next\"]), None)\n",
    "\n",
    "    fixtures = api.get_fixtures()\n",
    "    next_gw_fixtures = []\n",
    "    for f in fixtures:\n",
    "        if f.get(\"event\") == next_gw.get(\"id\"):\n",
    "            next_gw_fixtures.append({\n",
    "                \"id\": f.get(\"id\"),\n",
    "                \"home_team\": teams.get(f.get(\"team_h\"), \"Unknown\"),\n",
    "                \"away_team\": teams.get(f.get(\"team_a\"), \"Unknown\"),\n",
    "                \"kickoff_time\": f.get(\"kickoff_time\"),\n",
    "            })\n",
    "\n",
    "    return {\"gameweek\": next_gw.get(\"id\"), \"deadline\": next_gw.get(\"deadline_time\"), \"fixtures\": next_gw_fixtures}"
   ]
  },
  {
   "cell_type": "markdown",
   "id": "118c888c",
   "metadata": {},
   "source": [
    "The core function from the fpl data extractor tool from `src/fpl_gaffer/tools/data_collector/fpl_data/py`."
   ]
  },
  {
   "cell_type": "code",
   "execution_count": 22,
   "id": "cdd73b50",
   "metadata": {},
   "outputs": [
    {
     "name": "stdout",
     "output_type": "stream",
     "text": [
      "Next gameweek data: {'gameweek': 4, 'deadline': '2025-09-13T10:00:00Z', 'fixtures': [{'id': 31, 'home_team': 'Arsenal', 'away_team': \"Nott'm Forest\", 'kickoff_time': '2025-09-13T11:30:00Z'}, {'id': 32, 'home_team': 'Bournemouth', 'away_team': 'Brighton', 'kickoff_time': '2025-09-13T14:00:00Z'}, {'id': 35, 'home_team': 'Crystal Palace', 'away_team': 'Sunderland', 'kickoff_time': '2025-09-13T14:00:00Z'}, {'id': 36, 'home_team': 'Everton', 'away_team': 'Aston Villa', 'kickoff_time': '2025-09-13T14:00:00Z'}, {'id': 37, 'home_team': 'Fulham', 'away_team': 'Leeds', 'kickoff_time': '2025-09-13T14:00:00Z'}, {'id': 39, 'home_team': 'Newcastle', 'away_team': 'Wolves', 'kickoff_time': '2025-09-13T14:00:00Z'}, {'id': 40, 'home_team': 'West Ham', 'away_team': 'Spurs', 'kickoff_time': '2025-09-13T16:30:00Z'}, {'id': 33, 'home_team': 'Brentford', 'away_team': 'Chelsea', 'kickoff_time': '2025-09-13T19:00:00Z'}, {'id': 34, 'home_team': 'Burnley', 'away_team': 'Liverpool', 'kickoff_time': '2025-09-14T13:00:00Z'}, {'id': 38, 'home_team': 'Man City', 'away_team': 'Man Utd', 'kickoff_time': '2025-09-14T15:30:00Z'}]}\n"
     ]
    }
   ],
   "source": [
    "api = FPLOfficialAPI()\n",
    "gw_data = get_gameweek_data(api)\n",
    "print(\"Next gameweek data:\", gw_data)"
   ]
  },
  {
   "cell_type": "markdown",
   "id": "1aa7231b",
   "metadata": {},
   "source": [
    "This tool shows important gameweek information like the next gameweek number, the deadline of the gameweek, and the fixtures for the gameweek."
   ]
  },
  {
   "cell_type": "markdown",
   "id": "3092a026",
   "metadata": {},
   "source": [
    "### User Data Collection"
   ]
  },
  {
   "cell_type": "code",
   "execution_count": 18,
   "id": "decea118",
   "metadata": {},
   "outputs": [],
   "source": [
    "def extract_user_data(api: FPLOfficialAPI, manager_id: int):\n",
    "    bootstrap_data = api.get_bootstrap_data()\n",
    "    players, teams, positions = build_mappings(bootstrap_data)\n",
    "    current_gw = next((gw for gw in bootstrap_data.get(\"events\", []) if gw.get(\"is_current\")), None)\n",
    "    gw_id = current_gw.get(\"id\") if current_gw else None\n",
    "\n",
    "    manager_data = api.get_manager_data(manager_id)\n",
    "\n",
    "    team_data = api.get_gameweek_picks(manager_id, gw_id)\n",
    "    gw_history = team_data.get(\"entry_history\", {})\n",
    "\n",
    "    picks = team_data.get(\"picks\", [])\n",
    "\n",
    "    squad_info = {\n",
    "        \"starting_xi\": [],\n",
    "        \"bench\": [],\n",
    "        \"captain\": None,\n",
    "        \"vice_captain\": None,\n",
    "        \"active_chip\": team_data.get(\"active_chip\"),\n",
    "        \"points\": gw_history.get(\"points\", 0),\n",
    "        \"total_points\": gw_history.get(\"total_points\", 0),\n",
    "        \"rank\": gw_history.get(\"overall_rank\", 0),\n",
    "        \"squad_value\": gw_history.get(\"value\", 0) / 10,\n",
    "        \"transfers\": gw_history.get(\"event_transfers\", 0),\n",
    "        \"transfers_cost\": gw_history.get(\"event_transfers_cost\", 0),\n",
    "        \"money_itb\": gw_history.get(\"bank\", 0) / 10\n",
    "    }\n",
    "\n",
    "    for pick in picks:\n",
    "        player_info = map_player(pick[\"element\"], players, teams, positions)\n",
    "        player_info.update({\n",
    "            \"position_in_team\": pick[\"position\"],\n",
    "            \"multiplier\": pick[\"multiplier\"]\n",
    "        })\n",
    "\n",
    "        # Get captain and vice captain\n",
    "        if pick[\"is_captain\"]:\n",
    "            squad_info[\"captain\"] = player_info\n",
    "        if pick['is_vice_captain']:\n",
    "            squad_info['vice_captain'] = player_info\n",
    "\n",
    "        # Sort out starting 11\n",
    "        if pick[\"position\"] <= 11:\n",
    "            squad_info[\"starting_xi\"].append(player_info)\n",
    "        else:\n",
    "            squad_info[\"bench\"].append(player_info)\n",
    "\n",
    "\n",
    "    profile = {\n",
    "        \"manager_id\": manager_data.get(\"id\"),\n",
    "        \"team_name\": manager_data.get(\"name\"),\n",
    "        \"first_name\": manager_data.get(\"player_first_name\"),\n",
    "        \"last_name\": manager_data.get(\"player_last_name\"),\n",
    "        \"overall_rank\": manager_data.get(\"summary_overall_rank\"),\n",
    "        \"total_points\": manager_data.get(\"summary_overall_points\"),\n",
    "        \"squad_info\": squad_info\n",
    "    }\n",
    "    return profile\n"
   ]
  },
  {
   "cell_type": "markdown",
   "id": "df1a38cd",
   "metadata": {},
   "source": [
    "This is the user data extraction tool. The full code for the tool can be found in the `src/fpl_gaffer/tools/data_collector/user_data.py` file."
   ]
  },
  {
   "cell_type": "code",
   "execution_count": null,
   "id": "5bdba256",
   "metadata": {},
   "outputs": [],
   "source": [
    "import pandas as pd"
   ]
  },
  {
   "cell_type": "code",
   "execution_count": 23,
   "id": "a5993675",
   "metadata": {},
   "outputs": [
    {
     "name": "stdout",
     "output_type": "stream",
     "text": [
      "Data for Manager with ID '2723529':\n",
      " {'manager_id': 2723529, 'team_name': 'Ghost', 'first_name': 'Deju', 'last_name': '🔞', 'overall_rank': 5901781, 'total_points': 144, 'squad_info': {'starting_xi': [{'id': 220, 'name': 'Robert Lynch Sánchez', 'team': 'Chelsea', 'position': 'GKP', 'current_price': 5.0, 'status': 'a', 'position_in_team': 1, 'multiplier': 1}, {'id': 568, 'name': 'Pedro Porro Sauceda', 'team': 'Spurs', 'position': 'DEF', 'current_price': 5.6, 'status': 'a', 'position_in_team': 2, 'multiplier': 1}, {'id': 291, 'name': 'James Tarkowski', 'team': 'Everton', 'position': 'DEF', 'current_price': 5.5, 'status': 'a', 'position_in_team': 3, 'multiplier': 1}, {'id': 505, 'name': 'Nikola Milenković', 'team': \"Nott'm Forest\", 'position': 'DEF', 'current_price': 5.5, 'status': 'a', 'position_in_team': 4, 'multiplier': 1}, {'id': 224, 'name': 'Marc Cucurella Saseta', 'team': 'Chelsea', 'position': 'DEF', 'current_price': 6.1, 'status': 'a', 'position_in_team': 5, 'multiplier': 1}, {'id': 381, 'name': 'Mohamed Salah', 'team': 'Liverpool', 'position': 'MID', 'current_price': 14.5, 'status': 'a', 'position_in_team': 6, 'multiplier': 2}, {'id': 543, 'name': 'Simon Adingra', 'team': 'Sunderland', 'position': 'MID', 'current_price': 5.5, 'status': 'a', 'position_in_team': 7, 'multiplier': 1}, {'id': 450, 'name': 'Matheus Santos Carneiro da Cunha', 'team': 'Man Utd', 'position': 'MID', 'current_price': 8.1, 'status': 'd', 'position_in_team': 8, 'multiplier': 1}, {'id': 582, 'name': 'Mohammed Kudus', 'team': 'Spurs', 'position': 'MID', 'current_price': 6.6, 'status': 'a', 'position_in_team': 9, 'multiplier': 1}, {'id': 64, 'name': 'Ollie Watkins', 'team': 'Aston Villa', 'position': 'FWD', 'current_price': 8.9, 'status': 'a', 'position_in_team': 10, 'multiplier': 1}, {'id': 525, 'name': 'Chris Wood', 'team': \"Nott'm Forest\", 'position': 'FWD', 'current_price': 7.7, 'status': 'a', 'position_in_team': 11, 'multiplier': 1}], 'bench': [{'id': 470, 'name': 'Martin Dúbravka', 'team': 'Burnley', 'position': 'GKP', 'current_price': 4.0, 'status': 'a', 'position_in_team': 12, 'multiplier': 0}, {'id': 329, 'name': 'Harry Wilson', 'team': 'Fulham', 'position': 'MID', 'current_price': 5.4, 'status': 'a', 'position_in_team': 13, 'multiplier': 0}, {'id': 365, 'name': 'Lukas Nmecha', 'team': 'Leeds', 'position': 'FWD', 'current_price': 5.0, 'status': 'a', 'position_in_team': 14, 'multiplier': 0}, {'id': 317, 'name': 'Joachim Andersen', 'team': 'Fulham', 'position': 'DEF', 'current_price': 4.5, 'status': 'a', 'position_in_team': 15, 'multiplier': 0}], 'captain': {'id': 381, 'name': 'Mohamed Salah', 'team': 'Liverpool', 'position': 'MID', 'current_price': 14.5, 'status': 'a', 'position_in_team': 6, 'multiplier': 2}, 'vice_captain': {'id': 450, 'name': 'Matheus Santos Carneiro da Cunha', 'team': 'Man Utd', 'position': 'MID', 'current_price': 8.1, 'status': 'd', 'position_in_team': 8, 'multiplier': 1}, 'active_chip': None, 'points': 34, 'total_points': 144, 'rank': 5901781, 'squad_value': 100.1, 'transfers': 2, 'transfers_cost': 0, 'money_itb': 2.1}}\n"
     ]
    }
   ],
   "source": [
    "MANAGER_ID = 2723529\n",
    "api = FPLOfficialAPI()\n",
    "user_data = extract_user_data(api, MANAGER_ID)\n",
    "\n",
    "print(f\"Data for Manager with ID '{MANAGER_ID}':\\n\", user_data)"
   ]
  },
  {
   "cell_type": "code",
   "execution_count": 24,
   "id": "196a58a2",
   "metadata": {},
   "outputs": [
    {
     "data": {
      "text/html": [
       "<div>\n",
       "<style scoped>\n",
       "    .dataframe tbody tr th:only-of-type {\n",
       "        vertical-align: middle;\n",
       "    }\n",
       "\n",
       "    .dataframe tbody tr th {\n",
       "        vertical-align: top;\n",
       "    }\n",
       "\n",
       "    .dataframe thead th {\n",
       "        text-align: right;\n",
       "    }\n",
       "</style>\n",
       "<table border=\"1\" class=\"dataframe\">\n",
       "  <thead>\n",
       "    <tr style=\"text-align: right;\">\n",
       "      <th></th>\n",
       "      <th>id</th>\n",
       "      <th>name</th>\n",
       "      <th>team</th>\n",
       "      <th>position</th>\n",
       "      <th>current_price</th>\n",
       "      <th>status</th>\n",
       "      <th>position_in_team</th>\n",
       "      <th>multiplier</th>\n",
       "    </tr>\n",
       "  </thead>\n",
       "  <tbody>\n",
       "    <tr>\n",
       "      <th>0</th>\n",
       "      <td>220</td>\n",
       "      <td>Robert Lynch Sánchez</td>\n",
       "      <td>Chelsea</td>\n",
       "      <td>GKP</td>\n",
       "      <td>5.0</td>\n",
       "      <td>a</td>\n",
       "      <td>1</td>\n",
       "      <td>1</td>\n",
       "    </tr>\n",
       "    <tr>\n",
       "      <th>1</th>\n",
       "      <td>568</td>\n",
       "      <td>Pedro Porro Sauceda</td>\n",
       "      <td>Spurs</td>\n",
       "      <td>DEF</td>\n",
       "      <td>5.6</td>\n",
       "      <td>a</td>\n",
       "      <td>2</td>\n",
       "      <td>1</td>\n",
       "    </tr>\n",
       "    <tr>\n",
       "      <th>2</th>\n",
       "      <td>291</td>\n",
       "      <td>James Tarkowski</td>\n",
       "      <td>Everton</td>\n",
       "      <td>DEF</td>\n",
       "      <td>5.5</td>\n",
       "      <td>a</td>\n",
       "      <td>3</td>\n",
       "      <td>1</td>\n",
       "    </tr>\n",
       "    <tr>\n",
       "      <th>3</th>\n",
       "      <td>505</td>\n",
       "      <td>Nikola Milenković</td>\n",
       "      <td>Nott'm Forest</td>\n",
       "      <td>DEF</td>\n",
       "      <td>5.5</td>\n",
       "      <td>a</td>\n",
       "      <td>4</td>\n",
       "      <td>1</td>\n",
       "    </tr>\n",
       "    <tr>\n",
       "      <th>4</th>\n",
       "      <td>224</td>\n",
       "      <td>Marc Cucurella Saseta</td>\n",
       "      <td>Chelsea</td>\n",
       "      <td>DEF</td>\n",
       "      <td>6.1</td>\n",
       "      <td>a</td>\n",
       "      <td>5</td>\n",
       "      <td>1</td>\n",
       "    </tr>\n",
       "    <tr>\n",
       "      <th>5</th>\n",
       "      <td>381</td>\n",
       "      <td>Mohamed Salah</td>\n",
       "      <td>Liverpool</td>\n",
       "      <td>MID</td>\n",
       "      <td>14.5</td>\n",
       "      <td>a</td>\n",
       "      <td>6</td>\n",
       "      <td>2</td>\n",
       "    </tr>\n",
       "    <tr>\n",
       "      <th>6</th>\n",
       "      <td>543</td>\n",
       "      <td>Simon Adingra</td>\n",
       "      <td>Sunderland</td>\n",
       "      <td>MID</td>\n",
       "      <td>5.5</td>\n",
       "      <td>a</td>\n",
       "      <td>7</td>\n",
       "      <td>1</td>\n",
       "    </tr>\n",
       "    <tr>\n",
       "      <th>7</th>\n",
       "      <td>450</td>\n",
       "      <td>Matheus Santos Carneiro da Cunha</td>\n",
       "      <td>Man Utd</td>\n",
       "      <td>MID</td>\n",
       "      <td>8.1</td>\n",
       "      <td>d</td>\n",
       "      <td>8</td>\n",
       "      <td>1</td>\n",
       "    </tr>\n",
       "    <tr>\n",
       "      <th>8</th>\n",
       "      <td>582</td>\n",
       "      <td>Mohammed Kudus</td>\n",
       "      <td>Spurs</td>\n",
       "      <td>MID</td>\n",
       "      <td>6.6</td>\n",
       "      <td>a</td>\n",
       "      <td>9</td>\n",
       "      <td>1</td>\n",
       "    </tr>\n",
       "    <tr>\n",
       "      <th>9</th>\n",
       "      <td>64</td>\n",
       "      <td>Ollie Watkins</td>\n",
       "      <td>Aston Villa</td>\n",
       "      <td>FWD</td>\n",
       "      <td>8.9</td>\n",
       "      <td>a</td>\n",
       "      <td>10</td>\n",
       "      <td>1</td>\n",
       "    </tr>\n",
       "    <tr>\n",
       "      <th>10</th>\n",
       "      <td>525</td>\n",
       "      <td>Chris Wood</td>\n",
       "      <td>Nott'm Forest</td>\n",
       "      <td>FWD</td>\n",
       "      <td>7.7</td>\n",
       "      <td>a</td>\n",
       "      <td>11</td>\n",
       "      <td>1</td>\n",
       "    </tr>\n",
       "  </tbody>\n",
       "</table>\n",
       "</div>"
      ],
      "text/plain": [
       "     id                              name           team position  \\\n",
       "0   220              Robert Lynch Sánchez        Chelsea      GKP   \n",
       "1   568               Pedro Porro Sauceda          Spurs      DEF   \n",
       "2   291                   James Tarkowski        Everton      DEF   \n",
       "3   505                 Nikola Milenković  Nott'm Forest      DEF   \n",
       "4   224             Marc Cucurella Saseta        Chelsea      DEF   \n",
       "5   381                     Mohamed Salah      Liverpool      MID   \n",
       "6   543                     Simon Adingra     Sunderland      MID   \n",
       "7   450  Matheus Santos Carneiro da Cunha        Man Utd      MID   \n",
       "8   582                    Mohammed Kudus          Spurs      MID   \n",
       "9    64                     Ollie Watkins    Aston Villa      FWD   \n",
       "10  525                        Chris Wood  Nott'm Forest      FWD   \n",
       "\n",
       "    current_price status  position_in_team  multiplier  \n",
       "0             5.0      a                 1           1  \n",
       "1             5.6      a                 2           1  \n",
       "2             5.5      a                 3           1  \n",
       "3             5.5      a                 4           1  \n",
       "4             6.1      a                 5           1  \n",
       "5            14.5      a                 6           2  \n",
       "6             5.5      a                 7           1  \n",
       "7             8.1      d                 8           1  \n",
       "8             6.6      a                 9           1  \n",
       "9             8.9      a                10           1  \n",
       "10            7.7      a                11           1  "
      ]
     },
     "execution_count": 24,
     "metadata": {},
     "output_type": "execute_result"
    }
   ],
   "source": [
    "starting_xi_df = pd.DataFrame(user_data[\"squad_info\"][\"starting_xi\"])\n",
    "starting_xi_df"
   ]
  },
  {
   "cell_type": "markdown",
   "id": "076d2d34",
   "metadata": {},
   "source": [
    "The tool extracts all relevant information regarding the user like team name, name, rank, points, current squad, money itb, etc, for FPL Gaffer."
   ]
  },
  {
   "cell_type": "code",
   "execution_count": null,
   "id": "acc6c476",
   "metadata": {},
   "outputs": [],
   "source": []
  }
 ],
 "metadata": {
  "kernelspec": {
   "display_name": "fpl-gaffer",
   "language": "python",
   "name": "python3"
  },
  "language_info": {
   "codemirror_mode": {
    "name": "ipython",
    "version": 3
   },
   "file_extension": ".py",
   "mimetype": "text/x-python",
   "name": "python",
   "nbconvert_exporter": "python",
   "pygments_lexer": "ipython3",
   "version": "3.13.5"
  }
 },
 "nbformat": 4,
 "nbformat_minor": 5
}
