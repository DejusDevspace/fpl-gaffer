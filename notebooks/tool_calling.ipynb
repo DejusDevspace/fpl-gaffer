{
 "cells": [
  {
   "cell_type": "markdown",
   "id": "124dc615",
   "metadata": {},
   "source": [
    "## FPL GAFFER TOOL CALLING\n",
    "This notebook contains experiments with boilerplate tools, showing how FPL Gaffer would chose the tools to call based on prompts from a user during conversations."
   ]
  },
  {
   "cell_type": "code",
   "execution_count": 10,
   "id": "17ca4763",
   "metadata": {},
   "outputs": [],
   "source": [
    "from dotenv import load_dotenv\n",
    "# Load environment variables\n",
    "load_dotenv()\n",
    "\n",
    "import os\n",
    "import asyncio\n",
    "import json\n",
    "from typing import List, Literal, Callable, Any\n",
    "from pydantic import BaseModel, Field, ConfigDict\n",
    "from langchain.tools import Tool, BaseTool\n",
    "from langchain_core.prompts import PromptTemplate\n",
    "from langchain_groq import ChatGroq\n",
    "from langchain_core.messages import HumanMessage\n",
    "from langgraph.graph import StateGraph, START, END\n",
    "from typing_extensions import TypedDict\n",
    "from IPython.display import display, Image"
   ]
  },
  {
   "cell_type": "code",
   "execution_count": 2,
   "id": "f21d3a7caf6464d2",
   "metadata": {},
   "outputs": [],
   "source": [
    "# TODO: Use boilerplate functions for tools, assess\n",
    "# with an LLM to test the tools that would be called\n",
    "# for different kinds of prompts.\n",
    "\n",
    "# NOTE: Use proper documentation for the notebook."
   ]
  },
  {
   "cell_type": "code",
   "execution_count": 7,
   "id": "ff58d568",
   "metadata": {},
   "outputs": [
    {
     "name": "stderr",
     "output_type": "stream",
     "text": [
      "/home/d3ju/Documents/fpl-gaffer/.venv/lib64/python3.13/site-packages/pydantic/_internal/_fields.py:198: UserWarning: Field name \"input_schema\" in \"AsyncFPLTool\" shadows an attribute in parent \"BaseTool\"\n",
      "  warnings.warn(\n"
     ]
    }
   ],
   "source": [
    "class AsyncFPLTool(BaseTool):\n",
    "    \"\"\"Custom async tool wrapper to handle async execution in LangGraph context.\"\"\"\n",
    "    func: Callable\n",
    "    input_schema: BaseModel = None\n",
    "\n",
    "    # Allow custom types\n",
    "    model_config = ConfigDict(arbitrary_types_allowed=True)\n",
    "\n",
    "    async def _arun(self, **kwargs) -> Any:\n",
    "        \"\"\"Async execution of the tool.\"\"\"\n",
    "        try:\n",
    "            return await self.func(**kwargs)\n",
    "        except Exception as e:\n",
    "            return {\"error\": e}\n",
    "\n",
    "    def _run(self, **kwargs) -> Any:\n",
    "        \"\"\"Fallback sync wrapper.\"\"\"\n",
    "        try:\n",
    "            return asyncio.run(self.func(**kwargs))\n",
    "        except Exception as e:\n",
    "            return {\"error\": e}\n",
    "\n",
    "# Tool input schemas\n",
    "class NewsSearchInput(BaseModel):\n",
    "    \"\"\"Input schema for the news search tool.\"\"\"\n",
    "    query: str = Field(..., description=\"The search query for news search.\")\n",
    "\n",
    "class PlayerByPositionInput(BaseModel):\n",
    "    \"\"\"Input schema for the player by position tool.\"\"\"\n",
    "    position: Literal[\"GKP\", \"DEF\", \"MID\", \"FWD\"] = Field(..., description=\"Position to search for. One of: GK, DEF, MID, FWD.\")\n",
    "    max_price: float = Field(15.0, description=\"Maximum player price to search for in millions.\")\n",
    "\n",
    "\n",
    "class PlayerDataInput(BaseModel):\n",
    "    \"\"\"Input schema for the player data tool.\"\"\"\n",
    "    player_names: List[str] = Field(..., description=\"List of player(s) names to fetch data for.\")\n",
    "\n",
    "\n",
    "class FixturesForRangeInput(BaseModel):\n",
    "    \"\"\"Input schema for the fixtures for range tool.\"\"\"\n",
    "    num_gameweeks: int = Field(..., description=\"Number of upcoming gameweeks to fetch fixtures for.\")\n",
    "\n",
    "class UserTeamInfoInput(BaseModel):\n",
    "    \"\"\"Input schema for the user team info tool.\"\"\"\n",
    "    manager_id: int = Field(..., description=\"The user's FPL manager ID.\")\n",
    "    gameweek: int = Field(..., description=\"The current gameweek number to fetch data for.\")"
   ]
  },
  {
   "cell_type": "code",
   "execution_count": 32,
   "id": "430c3cbb",
   "metadata": {},
   "outputs": [],
   "source": [
    "# Boilerplate tool functions\n",
    "def news_search_tool(query: str):\n",
    "    print(f\"[news_search_tool] query: {query}\")\n",
    "\n",
    "def get_user_team_info_tool(manager_id: int, gameweek: int):\n",
    "    print(f\"[get_user_team_info_tool] manager_id={manager_id}, gameweek={gameweek}\")\n",
    "\n",
    "def get_players_by_position_tool(position: Literal[\"GKP\", \"DEF\", \"MID\", \"FWD\"], max_price: float):\n",
    "    print(f\"[get_players_by_position_tool] position={position}, max_price={max_price}\")\n",
    "\n",
    "def get_player_data_tool(player_names: List[str]):\n",
    "    print(f\"[get_player_data_tool] player_names={player_names}\")\n",
    "\n",
    "def get_fixtures_for_range_tool(num_gameweeks: int):\n",
    "    print(f\"[get_fixtures_for_range_tool] num_gameweeks={num_gameweeks}\")\n",
    "\n",
    "# Create tool list\n",
    "tools = [\n",
    "        AsyncFPLTool(\n",
    "            name=\"news_search_tool\",\n",
    "            description=\"Search for FPL news, expert analysis, injury updates, press conference information, etc.\"\n",
    "                        \"Use this when you need information about player/team news, injury, expert opinions, or \"\n",
    "                        \"general FPL updates.\",\n",
    "            func=news_search_tool,\n",
    "            args_schema=NewsSearchInput\n",
    "        ),\n",
    "        AsyncFPLTool(\n",
    "            name=\"get_user_team_info_tool\",\n",
    "            description=\"Get comprehensive information about a user's FPL team including squad, transfers, \"\n",
    "                        \"and finances. Use this when you need information about the user's team, players, or \"\n",
    "                        \"financial situation.\",\n",
    "            func=get_user_team_info_tool,\n",
    "            args_schema=UserTeamInfoInput\n",
    "        ),\n",
    "        AsyncFPLTool(\n",
    "            name=\"get_players_by_position_tool\",\n",
    "            description=\"Get players by position and max price. Use this when you need information for player \"\n",
    "                        \"replacements or transfer suggestions based on position and budget.\",\n",
    "            func=get_players_by_position_tool,\n",
    "            args_schema=PlayerByPositionInput\n",
    "        ),\n",
    "        AsyncFPLTool(\n",
    "            name=\"get_player_data_tool\",\n",
    "            description=\"Get detailed player data including stats, form, and injuries. Use this when you need \"\n",
    "                        \"information about specific players.\",\n",
    "            func=get_player_data_tool,\n",
    "            args_schema=PlayerDataInput\n",
    "        ),\n",
    "        AsyncFPLTool(\n",
    "            name=\"get_fixtures_for_range_tool\",\n",
    "            description=\"Get fixtures from the current gameweek to the next x gameweeks. Use this when you need \"\n",
    "                        \"information about upcoming fixtures or planning for future gameweeks.\",\n",
    "            func=get_fixtures_for_range_tool,\n",
    "            args_schema=FixturesForRangeInput\n",
    "        )\n",
    "    ]\n",
    "\n",
    "TOOLS_DESCRIPTION = \"\\n\".join(\n",
    "    f\"{t.name}: {t.description}\" for t in tools\n",
    ")"
   ]
  },
  {
   "cell_type": "code",
   "execution_count": null,
   "id": "eef2803b",
   "metadata": {},
   "outputs": [
    {
     "name": "stdout",
     "output_type": "stream",
     "text": [
      "\n",
      "You are an FPL conversational assistant that needs to decide the tools to call to assist the user's query.\n",
      "\n",
      "\n",
      "Available tools:\n",
      "[AsyncFPLTool(name='news_search_tool', description='Search for FPL news, expert analysis, injury updates, press conference information, etc.Use this when you need information about player/team news, injury, expert opinions, or general FPL updates.', args_schema=<class '__main__.NewsSearchInput'>, func=<function news_search_tool at 0x7f0c48ecefc0>), AsyncFPLTool(name='get_user_team_info_tool', description=\"Get comprehensive information about a user's FPL team including squad, transfers, and finances. Use this when you need information about the user's team, players, or financial situation.\", args_schema=<class '__main__.UserTeamInfoInput'>, func=<function get_user_team_info_tool at 0x7f0c48ecf060>), AsyncFPLTool(name='get_players_by_position_tool', description='Get players by position and max price. Use this when you need information for player replacements or transfer suggestions based on position and budget.', args_schema=<class '__main__.PlayerByPositionInput'>, func=<function get_players_by_position_tool at 0x7f0c48ecf100>), AsyncFPLTool(name='get_player_data_tool', description='Get detailed player data including stats, form, and injuries. Use this when you need information about specific players.', args_schema=<class '__main__.PlayerDataInput'>, func=<function get_player_data_tool at 0x7f0c48ececa0>), AsyncFPLTool(name='get_fixtures_for_range_tool', description='Get fixtures from the current gameweek to the next x gameweeks. Use this when you need information about upcoming fixtures or planning for future gameweeks.', args_schema=<class '__main__.FixturesForRangeInput'>, func=<function get_fixtures_for_range_tool at 0x7f0c48ecea20>)]\n",
      "\n",
      "Determine which tools to call and in what order. Do NOT provide any extra text, and do not add tools\n",
      "that are not listed above.\n",
      "\n",
      "Ouput MUST be one of:\n",
      "1. For a single tool call, a List of the tool name like so:\n",
      "[\"<tool_name>\"]\n",
      "\n",
      "2. For multiple tool calls, a LIST of JSON objects with tool names and arguments \n",
      "like so: [{ \"name\": \"<name>\" }, { \"name\": \"<name>\" }]\n",
      "\n",
      "3.If no tool fits, respond with:\n",
      "{\"name\": \"none\", \"message\": \"<natural language reply>\" }\n",
      "\n"
     ]
    }
   ],
   "source": [
    "MESSAGE_ANALYSIS_PROMPT_TEMPLATE = \"\"\"\n",
    "You are an FPL conversational assistant that needs to decide the tools to call to assist the user's query.\n",
    "\n",
    "\n",
    "Available tools:\n",
    "{tools}\n",
    "\n",
    "Determine which tools to call and in what order. Do NOT provide any extra text, and do not add tools\n",
    "that are not listed above.\n",
    "\n",
    "Ouput MUST be one of:\n",
    "1. For a single tool call, a List of the tool name like so:\n",
    "[\"<tool_name>\"]\n",
    "\n",
    "2. For multiple tool calls, a LIST of JSON objects with tool names and arguments\n",
    "like so: [{{ \"name\": \"<name>\" }}, {{ \"name\": \"<name>\" }}]\n",
    "\n",
    "3.If no tool fits, respond with:\n",
    "{{\"name\": \"none\", \"message\": \"<natural language reply>\" }}\n",
    "\"\"\"\n",
    "\n",
    "prompt = PromptTemplate.from_template(MESSAGE_ANALYSIS_PROMPT_TEMPLATE)\n",
    "prompt = prompt.format(tools=tools)\n",
    "\n",
    "print(prompt)"
   ]
  },
  {
   "cell_type": "code",
   "execution_count": null,
   "id": "89743e35",
   "metadata": {},
   "outputs": [],
   "source": [
    "# TODO: Test running the tools directly to make this a single node\n",
    "# instead of tool selection and execution nodes."
   ]
  },
  {
   "cell_type": "code",
   "execution_count": 7,
   "id": "afbcf977",
   "metadata": {},
   "outputs": [],
   "source": [
    "class ToolResponse(BaseModel):\n",
    "    tools_to_call: List[str] = Field(..., description=\"The list of tools to call\")"
   ]
  },
  {
   "cell_type": "code",
   "execution_count": 65,
   "id": "f17548f5",
   "metadata": {},
   "outputs": [],
   "source": [
    "# Initialize llm\n",
    "llm = ChatGroq(\n",
    "    api_key=os.environ[\"GROQ_API_KEY\"],\n",
    "    model=\"llama-3.3-70b-versatile\",\n",
    "    temperature=0.4\n",
    ")"
   ]
  },
  {
   "cell_type": "code",
   "execution_count": 66,
   "id": "2b3af5ae",
   "metadata": {},
   "outputs": [],
   "source": [
    "def run_query(q: str):\n",
    "    messages = [prompt, HumanMessage(content=q)]\n",
    "    result = llm.invoke(messages)\n",
    "\n",
    "    return result"
   ]
  },
  {
   "cell_type": "code",
   "execution_count": 67,
   "id": "0005f38b",
   "metadata": {},
   "outputs": [
    {
     "data": {
      "text/plain": [
       "AIMessage(content='[{\"name\": \"news_search_tool\"}]', additional_kwargs={}, response_metadata={'token_usage': {'completion_tokens': 11, 'prompt_tokens': 590, 'total_tokens': 601, 'completion_time': 0.035928076, 'prompt_time': 0.051373182, 'queue_time': 0.084823585, 'total_time': 0.087301258}, 'model_name': 'llama-3.3-70b-versatile', 'system_fingerprint': 'fp_2ddfbb0da0', 'service_tier': 'on_demand', 'finish_reason': 'stop', 'logprobs': None}, id='run--4fadd4f1-96d2-4e02-8465-6a1df5a67bff-0', usage_metadata={'input_tokens': 590, 'output_tokens': 11, 'total_tokens': 601})"
      ]
     },
     "execution_count": 67,
     "metadata": {},
     "output_type": "execute_result"
    }
   ],
   "source": [
    "run_query(\"Is Salah injured?\")"
   ]
  },
  {
   "cell_type": "code",
   "execution_count": 68,
   "id": "280d2dfc",
   "metadata": {},
   "outputs": [],
   "source": [
    "response = run_query(\"Who should I captain this gameweek?\")"
   ]
  },
  {
   "cell_type": "code",
   "execution_count": 69,
   "id": "f06ef481",
   "metadata": {},
   "outputs": [
    {
     "name": "stdout",
     "output_type": "stream",
     "text": [
      "[{\"name\": \"news_search_tool\"}, {\"name\": \"get_player_data_tool\"}, {\"name\": \"get_fixtures_for_range_tool\"}]\n"
     ]
    }
   ],
   "source": [
    "print(response.content)"
   ]
  },
  {
   "cell_type": "code",
   "execution_count": 70,
   "id": "75c72a0e",
   "metadata": {},
   "outputs": [
    {
     "data": {
      "text/plain": [
       "AIMessage(content='[{\"name\": \"get_user_team_info_tool\"}, {\"name\": \"get_player_data_tool\"}, {\"name\": \"get_players_by_position_tool\"}]', additional_kwargs={}, response_metadata={'token_usage': {'completion_tokens': 32, 'prompt_tokens': 597, 'total_tokens': 629, 'completion_time': 0.077542609, 'prompt_time': 0.052808529, 'queue_time': 0.085069839, 'total_time': 0.130351138}, 'model_name': 'llama-3.3-70b-versatile', 'system_fingerprint': 'fp_2ddfbb0da0', 'service_tier': 'on_demand', 'finish_reason': 'stop', 'logprobs': None}, id='run--ce5091bb-b9a8-4543-9a23-7d038cf5f5f5-0', usage_metadata={'input_tokens': 597, 'output_tokens': 32, 'total_tokens': 629})"
      ]
     },
     "execution_count": 70,
     "metadata": {},
     "output_type": "execute_result"
    }
   ],
   "source": [
    "run_query(\"Do you suggest I change any player from my team?\")"
   ]
  },
  {
   "cell_type": "code",
   "execution_count": 71,
   "id": "0c765146",
   "metadata": {},
   "outputs": [],
   "source": [
    "response = run_query(\"Based on fixture difficuly in the next 5 gameweeks, what players do you think I should sell, and what teams can I invest in?\")"
   ]
  },
  {
   "cell_type": "code",
   "execution_count": 72,
   "id": "a354805f",
   "metadata": {},
   "outputs": [
    {
     "data": {
      "text/plain": [
       "AIMessage(content='[{\"name\": \"get_fixtures_for_range_tool\"}, {\"name\": \"get_player_data_tool\"}, {\"name\": \"news_search_tool\"}]', additional_kwargs={}, response_metadata={'token_usage': {'completion_tokens': 31, 'prompt_tokens': 617, 'total_tokens': 648, 'completion_time': 0.070131387, 'prompt_time': 0.050517013, 'queue_time': 0.100716109, 'total_time': 0.1206484}, 'model_name': 'llama-3.3-70b-versatile', 'system_fingerprint': 'fp_155ab82e98', 'service_tier': 'on_demand', 'finish_reason': 'stop', 'logprobs': None}, id='run--f62c95a0-b642-45f8-aff2-014e7e79d766-0', usage_metadata={'input_tokens': 617, 'output_tokens': 31, 'total_tokens': 648})"
      ]
     },
     "execution_count": 72,
     "metadata": {},
     "output_type": "execute_result"
    }
   ],
   "source": [
    "response"
   ]
  },
  {
   "cell_type": "code",
   "execution_count": null,
   "id": "1525dd26",
   "metadata": {},
   "outputs": [],
   "source": []
  }
 ],
 "metadata": {
  "kernelspec": {
   "display_name": "fpl-gaffer",
   "language": "python",
   "name": "python3"
  },
  "language_info": {
   "codemirror_mode": {
    "name": "ipython",
    "version": 3
   },
   "file_extension": ".py",
   "mimetype": "text/x-python",
   "name": "python",
   "nbconvert_exporter": "python",
   "pygments_lexer": "ipython3",
   "version": "3.13.5"
  }
 },
 "nbformat": 4,
 "nbformat_minor": 5
}
