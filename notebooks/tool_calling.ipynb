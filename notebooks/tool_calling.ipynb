{
 "cells": [
  {
   "cell_type": "markdown",
   "id": "124dc615",
   "metadata": {},
   "source": [
    "## FPL GAFFER TOOL CALLING\n",
    "This notebook contains experiments with boilerplate tools, showing how FPL Gaffer would chose the tools to call based on prompts from a user during conversations."
   ]
  },
  {
   "cell_type": "code",
   "execution_count": null,
   "id": "17ca4763",
   "metadata": {},
   "outputs": [],
   "source": [
    "from dotenv import load_dotenv\n",
    "# Load environment variables\n",
    "load_dotenv()\n",
    "\n",
    "import os\n",
    "from typing import List, Literal\n",
    "from pydantic import BaseModel, Field\n",
    "from langchain.tools import Tool\n",
    "from langchain_groq import ChatGroq\n",
    "from langchain_core.messages import HumanMessage"
   ]
  },
  {
   "cell_type": "code",
   "execution_count": null,
   "id": "f21d3a7caf6464d2",
   "metadata": {},
   "outputs": [],
   "source": [
    "# TODO: Use boilerplate functions for tools, assess\n",
    "# with an LLM to test the tools that would be called\n",
    "# for different kinds of prompts.\n",
    "\n",
    "# NOTE: Use proper documentation for the notebook."
   ]
  },
  {
   "cell_type": "code",
   "execution_count": 4,
   "id": "ff58d568",
   "metadata": {},
   "outputs": [],
   "source": [
    "# Tool input schemas\n",
    "class NewsSearchInput(BaseModel):\n",
    "    \"\"\"Input schema for the news search tool.\"\"\"\n",
    "    query: str = Field(..., description=\"The search query for news search.\")\n",
    "\n",
    "class PlayerByPositionInput(BaseModel):\n",
    "    \"\"\"Input schema for the player by position tool.\"\"\"\n",
    "    position: Literal[\"GKP\", \"DEF\", \"MID\", \"FWD\"] = Field(..., description=\"Position to search for. One of: GK, DEF, MID, FWD.\")\n",
    "    max_price: float = Field(15.0, description=\"Maximum player price to search for in millions.\")\n",
    "\n",
    "\n",
    "class PlayerDataInput(BaseModel):\n",
    "    \"\"\"Input schema for the player data tool.\"\"\"\n",
    "    player_names: List[str] = Field(..., description=\"List of player(s) names to fetch data for.\")\n",
    "\n",
    "\n",
    "class FixturesForRangeInput(BaseModel):\n",
    "    \"\"\"Input schema for the fixtures for range tool.\"\"\"\n",
    "    num_gameweeks: int = Field(..., description=\"Number of upcoming gameweeks to fetch fixtures for.\")\n",
    "\n",
    "class UserTeamInfoInput(BaseModel):\n",
    "    \"\"\"Input schema for the user team info tool.\"\"\"\n",
    "    manager_id: int = Field(..., description=\"The user's FPL manager ID.\")\n",
    "    gameweek: int = Field(..., description=\"The current gameweek number to fetch data for.\")"
   ]
  },
  {
   "cell_type": "code",
   "execution_count": 11,
   "id": "430c3cbb",
   "metadata": {},
   "outputs": [],
   "source": [
    "# Boilerplate tool functions\n",
    "def news_search_tool(query: str):\n",
    "    print(f\"[news_search_tool] query: {query}\")\n",
    "\n",
    "def get_user_team_info_tool(manager_id: int, gameweek: int):\n",
    "    print(f\"[get_user_team_info_tool] manager_id={manager_id}, gameweek={gameweek}\")\n",
    "\n",
    "def get_players_by_position_tool(position: Literal[\"GKP\", \"DEF\", \"MID\", \"FWD\"], max_price: float):\n",
    "    print(f\"[get_players_by_position_tool] position={position}, max_price={max_price}\")\n",
    "\n",
    "def get_player_data_tool(player_names: List[str]):\n",
    "    print(f\"[get_player_data_tool] player_names={player_names}\")\n",
    "\n",
    "def get_fixtures_for_range_tool(num_gameweeks: int):\n",
    "    print(f\"[get_fixtures_for_range_tool] num_gameweeks={num_gameweeks}\")\n",
    "\n",
    "# Create tool list\n",
    "tools = [\n",
    "    Tool(\n",
    "        name=\"news_search_tool\",\n",
    "        description=\"Search for FPL news, expert analysis, injury updates, press conference information, etc.\"\n",
    "                    \"Use this when you need information about player/team news, injury, expert opinions, or \"\n",
    "                    \"general FPL updates.\",\n",
    "        func=news_search_tool,\n",
    "        args_schema=NewsSearchInput\n",
    "    ),\n",
    "    Tool(\n",
    "        name=\"get_user_team_info_tool\",\n",
    "        description=\"Get comprehensive information about a user's FPL team including squad, transfers, \"\n",
    "                    \"and finances. Use this when you need information about the user's team, players, or \"\n",
    "                    \"financial situation.\",\n",
    "        func=get_user_team_info_tool,\n",
    "        args_schema=UserTeamInfoInput\n",
    "    ),\n",
    "    Tool(\n",
    "        name=\"get_players_by_position_tool\",\n",
    "        description=\"Get players by position and max price. Use this when you need information for player \"\n",
    "                    \"replacements or transfer suggestions based on position and budget.\",\n",
    "        func=get_players_by_position_tool,\n",
    "        args_schema=PlayerByPositionInput\n",
    "    ),\n",
    "    Tool(\n",
    "        name=\"get_player_data_tool\",\n",
    "        description=\"Get detailed player data including stats, form, and injuries. Use this when you need \"\n",
    "                    \"information about specific players.\",\n",
    "        func=get_player_data_tool,\n",
    "        args_schema=PlayerDataInput\n",
    "    ),\n",
    "    Tool(\n",
    "        name=\"get_fixtures_for_range_tool\",\n",
    "        description=\"Get fixtures from the current gameweek to the next x gameweeks. Use this when you need \"\n",
    "                    \"information about upcoming fixtures or planning for future gameweeks.\",\n",
    "        func=get_fixtures_for_range_tool,\n",
    "        args_schema=FixturesForRangeInput\n",
    "    )\n",
    "]"
   ]
  },
  {
   "cell_type": "code",
   "execution_count": null,
   "id": "04c3fd2c",
   "metadata": {},
   "outputs": [
    {
     "name": "stdout",
     "output_type": "stream",
     "text": [
      "news_search_tool: Search for FPL news, expert analysis, injury updates, press conference information, etc.Use this when you need information about player/team news, injury, expert opinions, or general FPL updates.\n",
      "get_user_team_info_tool: Get comprehensive information about a user's FPL team including squad, transfers, and finances. Use this when you need information about the user's team, players, or financial situation.\n",
      "get_players_by_position_tool: Get players by position and max price. Use this when you need information for player replacements or transfer suggestions based on position and budget.\n",
      "get_player_data_tool: Get detailed player data including stats, form, and injuries. Use this when you need information about specific players.\n",
      "get_fixtures_for_range_tool: Get fixtures from the current gameweek to the next x gameweeks. Use this when you need information about upcoming fixtures or planning for future gameweeks.\n"
     ]
    }
   ],
   "source": [
    "TOOLS_DESCRIPTION = \"\\n\".join(\n",
    "    f\"{t.name}: {t.description}\" for t in tools\n",
    ")\n",
    "print(TOOLS_DESCRIPTION)"
   ]
  },
  {
   "cell_type": "code",
   "execution_count": null,
   "id": "eef2803b",
   "metadata": {},
   "outputs": [],
   "source": [
    "TOOL_ANALYSIS_PROMPT = \"\"\"\n",
    "You are an FPL conversational assistant that needs to decide the tools to call to assist the user's query.\n",
    "\n",
    "User's query: {user_message}\n",
    "\n",
    "Available tools:\n",
    "{tools_description}\n",
    "\n",
    "Determine which tools to call and in what order.\n",
    "\n",
    "Respond ONLY with a list of tools in the order they should be called. e.g [\"tool1\", \"tool2\"].\n",
    "\"\"\""
   ]
  },
  {
   "cell_type": "code",
   "execution_count": null,
   "id": "afbcf977",
   "metadata": {},
   "outputs": [],
   "source": [
    "class ToolResponse(BaseModel):\n",
    "    tools_to_call: List[str] = Field(..., description=\"The list of tools to call\")"
   ]
  },
  {
   "cell_type": "code",
   "execution_count": null,
   "id": "f17548f5",
   "metadata": {},
   "outputs": [],
   "source": [
    "# Initialize llm\n",
    "llm = ChatGroq(\n",
    "    api_key=os.environ[\"GROQ_API_KEY\"],\n",
    "    model=\"llama-3.3-70b-versatile\",\n",
    "    temperature=0.4\n",
    ")"
   ]
  },
  {
   "cell_type": "code",
   "execution_count": null,
   "id": "2b3af5ae",
   "metadata": {},
   "outputs": [],
   "source": [
    "def run_query(q: str):\n",
    "    messages = [TOOL_ANALYSIS_PROMPT, HumanMessage(content=q)]\n",
    "    result = llm.invoke(messages)\n",
    "\n",
    "\n"
   ]
  }
 ],
 "metadata": {
  "kernelspec": {
   "display_name": "fpl-gaffer",
   "language": "python",
   "name": "python3"
  },
  "language_info": {
   "codemirror_mode": {
    "name": "ipython",
    "version": 3
   },
   "file_extension": ".py",
   "mimetype": "text/x-python",
   "name": "python",
   "nbconvert_exporter": "python",
   "pygments_lexer": "ipython3",
   "version": "3.13.5"
  }
 },
 "nbformat": 4,
 "nbformat_minor": 5
}
