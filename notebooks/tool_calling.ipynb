{
 "cells": [
  {
   "cell_type": "markdown",
   "id": "124dc615",
   "metadata": {},
   "source": [
    "## FPL GAFFER TOOL CALLING\n",
    "This notebook contains experiments with boilerplate tools, showing how FPL Gaffer would chose the tools to call based on prompts from a user during conversations."
   ]
  },
  {
   "cell_type": "code",
   "execution_count": 1,
   "id": "17ca4763",
   "metadata": {},
   "outputs": [],
   "source": [
    "from dotenv import load_dotenv\n",
    "# Load environment variables\n",
    "load_dotenv()\n",
    "\n",
    "import os\n",
    "from typing import List, Literal\n",
    "from pydantic import BaseModel, Field\n",
    "from langchain.tools import Tool\n",
    "from langchain_groq import ChatGroq\n",
    "from langchain_core.messages import HumanMessage"
   ]
  },
  {
   "cell_type": "code",
   "execution_count": 2,
   "id": "f21d3a7caf6464d2",
   "metadata": {},
   "outputs": [],
   "source": [
    "# TODO: Use boilerplate functions for tools, assess\n",
    "# with an LLM to test the tools that would be called\n",
    "# for different kinds of prompts.\n",
    "\n",
    "# NOTE: Use proper documentation for the notebook."
   ]
  },
  {
   "cell_type": "code",
   "execution_count": 3,
   "id": "ff58d568",
   "metadata": {},
   "outputs": [],
   "source": [
    "# Tool input schemas\n",
    "class NewsSearchInput(BaseModel):\n",
    "    \"\"\"Input schema for the news search tool.\"\"\"\n",
    "    query: str = Field(..., description=\"The search query for news search.\")\n",
    "\n",
    "class PlayerByPositionInput(BaseModel):\n",
    "    \"\"\"Input schema for the player by position tool.\"\"\"\n",
    "    position: Literal[\"GKP\", \"DEF\", \"MID\", \"FWD\"] = Field(..., description=\"Position to search for. One of: GK, DEF, MID, FWD.\")\n",
    "    max_price: float = Field(15.0, description=\"Maximum player price to search for in millions.\")\n",
    "\n",
    "\n",
    "class PlayerDataInput(BaseModel):\n",
    "    \"\"\"Input schema for the player data tool.\"\"\"\n",
    "    player_names: List[str] = Field(..., description=\"List of player(s) names to fetch data for.\")\n",
    "\n",
    "\n",
    "class FixturesForRangeInput(BaseModel):\n",
    "    \"\"\"Input schema for the fixtures for range tool.\"\"\"\n",
    "    num_gameweeks: int = Field(..., description=\"Number of upcoming gameweeks to fetch fixtures for.\")\n",
    "\n",
    "class UserTeamInfoInput(BaseModel):\n",
    "    \"\"\"Input schema for the user team info tool.\"\"\"\n",
    "    manager_id: int = Field(..., description=\"The user's FPL manager ID.\")\n",
    "    gameweek: int = Field(..., description=\"The current gameweek number to fetch data for.\")"
   ]
  },
  {
   "cell_type": "code",
   "execution_count": 4,
   "id": "430c3cbb",
   "metadata": {},
   "outputs": [],
   "source": [
    "# Boilerplate tool functions\n",
    "def news_search_tool(query: str):\n",
    "    print(f\"[news_search_tool] query: {query}\")\n",
    "\n",
    "def get_user_team_info_tool(manager_id: int, gameweek: int):\n",
    "    print(f\"[get_user_team_info_tool] manager_id={manager_id}, gameweek={gameweek}\")\n",
    "\n",
    "def get_players_by_position_tool(position: Literal[\"GKP\", \"DEF\", \"MID\", \"FWD\"], max_price: float):\n",
    "    print(f\"[get_players_by_position_tool] position={position}, max_price={max_price}\")\n",
    "\n",
    "def get_player_data_tool(player_names: List[str]):\n",
    "    print(f\"[get_player_data_tool] player_names={player_names}\")\n",
    "\n",
    "def get_fixtures_for_range_tool(num_gameweeks: int):\n",
    "    print(f\"[get_fixtures_for_range_tool] num_gameweeks={num_gameweeks}\")\n",
    "\n",
    "# Create tool list\n",
    "tools = [\n",
    "    Tool(\n",
    "        name=\"news_search_tool\",\n",
    "        description=\"Search for FPL news, expert analysis, injury updates, press conference information, etc.\"\n",
    "                    \"Use this when you need information about player/team news, injury, expert opinions, or \"\n",
    "                    \"general FPL updates.\",\n",
    "        func=news_search_tool,\n",
    "        args_schema=NewsSearchInput\n",
    "    ),\n",
    "    Tool(\n",
    "        name=\"get_user_team_info_tool\",\n",
    "        description=\"Get comprehensive information about a user's FPL team including squad, transfers, \"\n",
    "                    \"and finances. Use this when you need information about the user's team, players, or \"\n",
    "                    \"financial situation.\",\n",
    "        func=get_user_team_info_tool,\n",
    "        args_schema=UserTeamInfoInput\n",
    "    ),\n",
    "    Tool(\n",
    "        name=\"get_players_by_position_tool\",\n",
    "        description=\"Get players by position and max price. Use this when you need information for player \"\n",
    "                    \"replacements or transfer suggestions based on position and budget.\",\n",
    "        func=get_players_by_position_tool,\n",
    "        args_schema=PlayerByPositionInput\n",
    "    ),\n",
    "    Tool(\n",
    "        name=\"get_player_data_tool\",\n",
    "        description=\"Get detailed player data including stats, form, and injuries. Use this when you need \"\n",
    "                    \"information about specific players.\",\n",
    "        func=get_player_data_tool,\n",
    "        args_schema=PlayerDataInput\n",
    "    ),\n",
    "    Tool(\n",
    "        name=\"get_fixtures_for_range_tool\",\n",
    "        description=\"Get fixtures from the current gameweek to the next x gameweeks. Use this when you need \"\n",
    "                    \"information about upcoming fixtures or planning for future gameweeks.\",\n",
    "        func=get_fixtures_for_range_tool,\n",
    "        args_schema=FixturesForRangeInput\n",
    "    )\n",
    "]"
   ]
  },
  {
   "cell_type": "code",
   "execution_count": 5,
   "id": "04c3fd2c",
   "metadata": {},
   "outputs": [
    {
     "name": "stdout",
     "output_type": "stream",
     "text": [
      "news_search_tool: Search for FPL news, expert analysis, injury updates, press conference information, etc.Use this when you need information about player/team news, injury, expert opinions, or general FPL updates.\n",
      "get_user_team_info_tool: Get comprehensive information about a user's FPL team including squad, transfers, and finances. Use this when you need information about the user's team, players, or financial situation.\n",
      "get_players_by_position_tool: Get players by position and max price. Use this when you need information for player replacements or transfer suggestions based on position and budget.\n",
      "get_player_data_tool: Get detailed player data including stats, form, and injuries. Use this when you need information about specific players.\n",
      "get_fixtures_for_range_tool: Get fixtures from the current gameweek to the next x gameweeks. Use this when you need information about upcoming fixtures or planning for future gameweeks.\n"
     ]
    }
   ],
   "source": [
    "TOOLS_DESCRIPTION = \"\\n\".join(\n",
    "    f\"{t.name}: {t.description}\" for t in tools\n",
    ")\n",
    "print(TOOLS_DESCRIPTION)"
   ]
  },
  {
   "cell_type": "code",
   "execution_count": 6,
   "id": "eef2803b",
   "metadata": {},
   "outputs": [],
   "source": [
    "TOOL_ANALYSIS_PROMPT = f\"\"\"\n",
    "You are an FPL conversational assistant that needs to decide the tools to call to assist the user's query.\n",
    "\n",
    "\n",
    "Available tools:\n",
    "{TOOLS_DESCRIPTION}\n",
    "\n",
    "Determine which tools to call and in what order.\n",
    "\n",
    "Respond ONLY with a JSON object of the form:\n",
    "{{\"tool_name\": \"<name>\", \"arguments\": {{ ... }} }}\n",
    "If no tool fits, respond with:\n",
    "{{\"tool_name\": \"none\", \"arguments\": {{ \"response\": \"<natural language reply>\" }} }}\n",
    "\"\"\""
   ]
  },
  {
   "cell_type": "code",
   "execution_count": 7,
   "id": "afbcf977",
   "metadata": {},
   "outputs": [],
   "source": [
    "class ToolResponse(BaseModel):\n",
    "    tools_to_call: List[str] = Field(..., description=\"The list of tools to call\")"
   ]
  },
  {
   "cell_type": "code",
   "execution_count": 8,
   "id": "f17548f5",
   "metadata": {},
   "outputs": [],
   "source": [
    "# Initialize llm\n",
    "llm = ChatGroq(\n",
    "    api_key=os.environ[\"GROQ_API_KEY\"],\n",
    "    model=\"llama-3.3-70b-versatile\",\n",
    "    temperature=0.4\n",
    ").bind_tools(tools)"
   ]
  },
  {
   "cell_type": "code",
   "execution_count": 9,
   "id": "2b3af5ae",
   "metadata": {},
   "outputs": [],
   "source": [
    "def run_query(q: str):\n",
    "    # prompt = TOOL_ANALYSIS_PROMPT.format(tools_description=TOOLS_DESCRIPTION)\n",
    "    messages = [TOOL_ANALYSIS_PROMPT, HumanMessage(content=q)]\n",
    "    result = llm.invoke(messages)\n",
    "\n",
    "    return result\n"
   ]
  },
  {
   "cell_type": "code",
   "execution_count": 10,
   "id": "0005f38b",
   "metadata": {},
   "outputs": [
    {
     "data": {
      "text/plain": [
       "AIMessage(content='{\"tool_name\": \"news_search_tool\", \"arguments\": { \"query\": \"Salah injury\" } }', additional_kwargs={}, response_metadata={'token_usage': {'completion_tokens': 24, 'prompt_tokens': 1109, 'total_tokens': 1133, 'completion_time': 0.044044569, 'prompt_time': 0.089477656, 'queue_time': 0.087254643, 'total_time': 0.133522225}, 'model_name': 'llama-3.3-70b-versatile', 'system_fingerprint': 'fp_3f3b593e33', 'service_tier': 'on_demand', 'finish_reason': 'stop', 'logprobs': None}, id='run--37597462-f483-4881-8d02-e93d8852352a-0', usage_metadata={'input_tokens': 1109, 'output_tokens': 24, 'total_tokens': 1133})"
      ]
     },
     "execution_count": 10,
     "metadata": {},
     "output_type": "execute_result"
    }
   ],
   "source": [
    "run_query(\"Is Salah injured?\")"
   ]
  },
  {
   "cell_type": "code",
   "execution_count": 11,
   "id": "280d2dfc",
   "metadata": {},
   "outputs": [],
   "source": [
    "response = run_query(\"Who should I captain this gameweek?\")"
   ]
  },
  {
   "cell_type": "code",
   "execution_count": 12,
   "id": "f06ef481",
   "metadata": {},
   "outputs": [
    {
     "name": "stdout",
     "output_type": "stream",
     "text": [
      "{\"tool_name\": \"news_search_tool\", \"arguments\": { \"query\": \"FPL captain tips this gameweek\" } }\n"
     ]
    }
   ],
   "source": [
    "print(response.content)"
   ]
  },
  {
   "cell_type": "code",
   "execution_count": 13,
   "id": "75c72a0e",
   "metadata": {},
   "outputs": [
    {
     "data": {
      "text/plain": [
       "AIMessage(content='{\"tool_name\": \"get_user_team_info_tool\", \"arguments\": { \"manager_id\": \"user_manager_id\", \"gameweek\": \"current_gameweek\" }}', additional_kwargs={}, response_metadata={'token_usage': {'completion_tokens': 38, 'prompt_tokens': 1116, 'total_tokens': 1154, 'completion_time': 0.078453459, 'prompt_time': 0.092212897, 'queue_time': 0.086386239, 'total_time': 0.170666356}, 'model_name': 'llama-3.3-70b-versatile', 'system_fingerprint': 'fp_2ddfbb0da0', 'service_tier': 'on_demand', 'finish_reason': 'stop', 'logprobs': None}, id='run--49b8a62a-1ac3-4e32-8234-39a914f71e30-0', usage_metadata={'input_tokens': 1116, 'output_tokens': 38, 'total_tokens': 1154})"
      ]
     },
     "execution_count": 13,
     "metadata": {},
     "output_type": "execute_result"
    }
   ],
   "source": [
    "run_query(\"Do you suggest I change any player from my team?\")"
   ]
  },
  {
   "cell_type": "code",
   "execution_count": 15,
   "id": "0c765146",
   "metadata": {},
   "outputs": [],
   "source": [
    "response = run_query(\"Based on fixture difficuly in the next 5 gameweeks, what players do you think I should sell, and what teams can I invest in?\")"
   ]
  },
  {
   "cell_type": "code",
   "execution_count": 19,
   "id": "a354805f",
   "metadata": {},
   "outputs": [
    {
     "data": {
      "text/plain": [
       "[{'name': 'get_fixtures_for_range_tool',\n",
       "  'args': {'num_gameweeks': 5},\n",
       "  'id': '2b8ne2wep',\n",
       "  'type': 'tool_call'}]"
      ]
     },
     "execution_count": 19,
     "metadata": {},
     "output_type": "execute_result"
    }
   ],
   "source": [
    "response.tool_calls"
   ]
  },
  {
   "cell_type": "code",
   "execution_count": 20,
   "id": "491a98da",
   "metadata": {},
   "outputs": [
    {
     "data": {
      "text/plain": [
       "AIMessage(content='', additional_kwargs={'tool_calls': [{'id': '2b8ne2wep', 'function': {'arguments': '{\"num_gameweeks\":5}', 'name': 'get_fixtures_for_range_tool'}, 'type': 'function'}]}, response_metadata={'token_usage': {'completion_tokens': 21, 'prompt_tokens': 1136, 'total_tokens': 1157, 'completion_time': 0.042734522, 'prompt_time': 0.091604286, 'queue_time': 0.088042258, 'total_time': 0.134338808}, 'model_name': 'llama-3.3-70b-versatile', 'system_fingerprint': 'fp_3f3b593e33', 'service_tier': 'on_demand', 'finish_reason': 'tool_calls', 'logprobs': None}, id='run--72f8f022-f67c-4acb-996d-2f6d50e90d36-0', tool_calls=[{'name': 'get_fixtures_for_range_tool', 'args': {'num_gameweeks': 5}, 'id': '2b8ne2wep', 'type': 'tool_call'}], usage_metadata={'input_tokens': 1136, 'output_tokens': 21, 'total_tokens': 1157})"
      ]
     },
     "execution_count": 20,
     "metadata": {},
     "output_type": "execute_result"
    }
   ],
   "source": [
    "response"
   ]
  },
  {
   "cell_type": "code",
   "execution_count": 21,
   "id": "0c90f1d2",
   "metadata": {},
   "outputs": [],
   "source": [
    "from typing import Any, Dict\n",
    "import json"
   ]
  },
  {
   "cell_type": "code",
   "execution_count": 44,
   "id": "c2b65490",
   "metadata": {},
   "outputs": [],
   "source": [
    "def call_model(messages):\n",
    "    response = llm.invoke(messages)\n",
    "    print(f\"Model response: {response}\\n\")\n",
    "    return response"
   ]
  },
  {
   "cell_type": "code",
   "execution_count": 45,
   "id": "3413f76b",
   "metadata": {},
   "outputs": [],
   "source": [
    "# Map tool names to actual functions & schemas\n",
    "tool_map = {t.name: t for t in tools}\n",
    "\n",
    "def route_user_query(user_text: str) -> Any:\n",
    "    \"\"\"Return either a natural reply or the tool output.\"\"\"\n",
    "    messages = [TOOL_ANALYSIS_PROMPT, HumanMessage(content=user_text)]\n",
    "    raw = call_model(messages)\n",
    "    content = raw.content if hasattr(raw, \"content\") else raw[\"content\"]\n",
    "\n",
    "    # Attempt to parse JSON\n",
    "    try:\n",
    "        decision = json.loads(content)\n",
    "    except json.JSONDecodeError:\n",
    "        return f\"Model returned non-JSON: {content}\"\n",
    "\n",
    "    tool_name = decision.get(\"tool_name\")\n",
    "    args: Dict = decision.get(\"arguments\", {})\n",
    "\n",
    "    if tool_name == \"none\" or tool_name not in tool_map:\n",
    "        return args.get(\"response\", \"I couldn't match a tool.\")\n",
    "\n",
    "    # Validate args with the tool’s Pydantic schema\n",
    "    schema = tool_map[tool_name].args_schema\n",
    "    validated = schema(**args)   # raises if missing/invalid\n",
    "\n",
    "    # Call the underlying function\n",
    "    return tool_map[tool_name].func(**validated.model_dump())"
   ]
  },
  {
   "cell_type": "code",
   "execution_count": 46,
   "id": "a642a368",
   "metadata": {},
   "outputs": [
    {
     "data": {
      "image/png": "[encoded data removed]",
      "text/plain": [
       "<IPython.core.display.Image object>"
      ]
     },
     "metadata": {},
     "output_type": "display_data"
    }
   ],
   "source": [
    "# graph_flow.py\n",
    "from langgraph.graph import StateGraph, START, END\n",
    "from typing_extensions import TypedDict\n",
    "from IPython.display import display, Image\n",
    "\n",
    "class State(TypedDict):\n",
    "    query: str\n",
    "    reply: Any\n",
    "\n",
    "graph = StateGraph(State)\n",
    "\n",
    "\n",
    "def chat_node(state: dict) -> dict:\n",
    "    user_text = state[\"query\"]\n",
    "    answer = route_user_query(user_text)\n",
    "    print(answer)\n",
    "    return {\"reply\": answer}\n",
    "\n",
    "graph.add_node(\"chat_node\", chat_node)\n",
    "\n",
    "graph.add_edge(START, \"chat_node\")\n",
    "graph.add_edge(\"chat_node\", END)\n",
    "\n",
    "\n",
    "flow = graph.compile()\n",
    "\n",
    "display(Image(flow.get_graph().draw_mermaid_png()))\n"
   ]
  },
  {
   "cell_type": "code",
   "execution_count": 49,
   "id": "b8e8f99c",
   "metadata": {},
   "outputs": [
    {
     "name": "stdout",
     "output_type": "stream",
     "text": [
      "Model response: content='' additional_kwargs={'tool_calls': [{'id': 'av09jy6jj', 'function': {'arguments': '{\"max_price\":6.5,\"position\":\"MID\"}', 'name': 'get_players_by_position_tool'}, 'type': 'function'}, {'id': 'ajvwa5kap', 'function': {'arguments': '{\"gameweek\":10,\"manager_id\":12345}', 'name': 'get_user_team_info_tool'}, 'type': 'function'}]} response_metadata={'token_usage': {'completion_tokens': 51, 'prompt_tokens': 1124, 'total_tokens': 1175, 'completion_time': 0.088877348, 'prompt_time': 0.086366405, 'queue_time': 0.089689929, 'total_time': 0.175243753}, 'model_name': 'llama-3.3-70b-versatile', 'system_fingerprint': 'fp_2ddfbb0da0', 'service_tier': 'on_demand', 'finish_reason': 'tool_calls', 'logprobs': None} id='run--af725cef-eba8-4985-a0a5-31ad4a5508e5-0' tool_calls=[{'name': 'get_players_by_position_tool', 'args': {'max_price': 6.5, 'position': 'MID'}, 'id': 'av09jy6jj', 'type': 'tool_call'}, {'name': 'get_user_team_info_tool', 'args': {'gameweek': 10, 'manager_id': 12345}, 'id': 'ajvwa5kap', 'type': 'tool_call'}] usage_metadata={'input_tokens': 1124, 'output_tokens': 51, 'total_tokens': 1175}\n",
      "\n",
      "Model returned non-JSON: \n",
      ">> Model returned non-JSON: \n"
     ]
    }
   ],
   "source": [
    "result = flow.invoke({\"query\": \"Suggest a midfielder under 6.5 million and tell me who to sell from my team\"})\n",
    "print(\">>\", result[\"reply\"])"
   ]
  },
  {
   "cell_type": "code",
   "execution_count": 38,
   "id": "3c5d8e1a",
   "metadata": {},
   "outputs": [
    {
     "name": "stdout",
     "output_type": "stream",
     "text": [
      "<class '__main__.State'>\n"
     ]
    }
   ],
   "source": [
    "print(State)"
   ]
  },
  {
   "cell_type": "code",
   "execution_count": null,
   "id": "a4dc6bb4",
   "metadata": {},
   "outputs": [],
   "source": [
    "# TODO: Current experimentations handle only one tool call. Refine to handle multiple tools."
   ]
  },
  {
   "cell_type": "code",
   "execution_count": null,
   "id": "1525dd26",
   "metadata": {},
   "outputs": [],
   "source": []
  }
 ],
 "metadata": {
  "kernelspec": {
   "display_name": "fpl-gaffer",
   "language": "python",
   "name": "python3"
  },
  "language_info": {
   "codemirror_mode": {
    "name": "ipython",
    "version": 3
   },
   "file_extension": ".py",
   "mimetype": "text/x-python",
   "name": "python",
   "nbconvert_exporter": "python",
   "pygments_lexer": "ipython3",
   "version": "3.13.5"
  }
 },
 "nbformat": 4,
 "nbformat_minor": 5
}
