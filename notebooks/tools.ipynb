{
 "cells": [
  {
   "cell_type": "markdown",
   "id": "63676945",
   "metadata": {},
   "source": [
    "# Creating and Testing Tools for the FPL Gaffer"
   ]
  },
  {
   "cell_type": "markdown",
   "id": "f8dd74ff",
   "metadata": {},
   "source": [
    "## FPL API Data Retrieval Tool"
   ]
  },
  {
   "cell_type": "code",
   "execution_count": 1,
   "id": "f2fd8a4c",
   "metadata": {},
   "outputs": [],
   "source": [
    "import httpx"
   ]
  },
  {
   "cell_type": "code",
   "execution_count": 2,
   "id": "48462c61",
   "metadata": {},
   "outputs": [],
   "source": [
    "base_url = \"https://fantasy.premierleague.com/api\"\n",
    "client = httpx.Client()"
   ]
  },
  {
   "cell_type": "markdown",
   "id": "b60f2b9f",
   "metadata": {},
   "source": [
    "### Retrieving Bootstrap Data"
   ]
  },
  {
   "cell_type": "code",
   "execution_count": 3,
   "id": "9b5cbd6e",
   "metadata": {},
   "outputs": [
    {
     "data": {
      "text/plain": [
       "dict_keys(['chips', 'events', 'game_settings', 'game_config', 'phases', 'teams', 'total_players', 'element_stats', 'element_types', 'elements'])"
      ]
     },
     "execution_count": 3,
     "metadata": {},
     "output_type": "execute_result"
    }
   ],
   "source": [
    "# Retrieve bootstrap data from FPL API endpoint\n",
    "bootstrap_endpoint = f\"{base_url}/bootstrap-static/\"\n",
    "response = client.get(bootstrap_endpoint)\n",
    "\n",
    "# Ensure the request was successful\n",
    "response.raise_for_status()\n",
    "response_data = response.json()\n",
    "\n",
    "# Display the keys of the response data\n",
    "response_data.keys()"
   ]
  },
  {
   "cell_type": "markdown",
   "id": "a5d6f4d4",
   "metadata": {},
   "source": [
    "### Getting Player Data"
   ]
  },
  {
   "cell_type": "code",
   "execution_count": 4,
   "id": "fa0c2ab2",
   "metadata": {},
   "outputs": [
    {
     "name": "stdout",
     "output_type": "stream",
     "text": [
      "ID: 1, Name: Raya, Team: 1, Position: 1\n",
      "ID: 2, Name: Arrizabalaga, Team: 1, Position: 1\n",
      "ID: 3, Name: Hein, Team: 1, Position: 1\n",
      "ID: 4, Name: Setford, Team: 1, Position: 1\n",
      "ID: 5, Name: Gabriel, Team: 1, Position: 2\n",
      "ID: 6, Name: Saliba, Team: 1, Position: 2\n",
      "ID: 7, Name: Calafiori, Team: 1, Position: 2\n",
      "ID: 8, Name: J.Timber, Team: 1, Position: 2\n",
      "ID: 9, Name: Kiwior, Team: 1, Position: 2\n",
      "ID: 10, Name: Lewis-Skelly, Team: 1, Position: 2\n"
     ]
    }
   ],
   "source": [
    "player_data = response_data[\"elements\"]\n",
    "\n",
    "# Display the first 10 players\n",
    "for player in player_data[:10]:\n",
    "    print(f\"ID: {player[\"id\"]}, Name: {player[\"web_name\"]}, Team: {player[\"team\"]}, Position: {player[\"element_type\"]}\")"
   ]
  },
  {
   "cell_type": "markdown",
   "id": "f10d34bd",
   "metadata": {},
   "source": [
    "### Getting Gameweek Data"
   ]
  },
  {
   "cell_type": "code",
   "execution_count": 7,
   "id": "74d87a0f",
   "metadata": {},
   "outputs": [
    {
     "data": {
      "text/plain": [
       "{'gamweek': 1, 'deadline': '2025-08-15T17:30:00Z', 'finished': False}"
      ]
     },
     "execution_count": 7,
     "metadata": {},
     "output_type": "execute_result"
    }
   ],
   "source": [
    "gw_data = response_data.get(\"events\", [])\n",
    "\n",
    "# Since no gameweek is active now as the season hasn't started,\n",
    "# let's get the other data than current gameweek\n",
    "\n",
    "gw_dict = {}\n",
    "for gw in gw_data:\n",
    "    # Get the details for the firt gameweek\n",
    "    gw_dict[\"gamweek\"] = gw.get(\"id\") if gw else None\n",
    "    gw_dict[\"deadline\"] = gw.get(\"deadline_time\") if gw else None\n",
    "    gw_dict[\"finished\"] = gw.get(\"finished\") if gw else None\n",
    "    break\n",
    "\n",
    "gw_dict"
   ]
  },
  {
   "cell_type": "markdown",
   "id": "b375f84b",
   "metadata": {},
   "source": [
    "### Getting Fixture Data"
   ]
  },
  {
   "cell_type": "code",
   "execution_count": 11,
   "metadata": {},
   "outputs": [
    {
     "data": {
      "text/plain": [
       "{'code': 2561895,\n",
       " 'event': 1,\n",
       " 'finished': False,\n",
       " 'finished_provisional': False,\n",
       " 'id': 1,\n",
       " 'kickoff_time': '2025-08-15T19:00:00Z',\n",
       " 'minutes': 0,\n",
       " 'provisional_start_time': False,\n",
       " 'started': False,\n",
       " 'team_a': 4,\n",
       " 'team_a_score': None,\n",
       " 'team_h': 12,\n",
       " 'team_h_score': None,\n",
       " 'stats': [],\n",
       " 'team_h_difficulty': 3,\n",
       " 'team_a_difficulty': 5,\n",
       " 'pulse_id': 124791}"
      ]
     },
     "execution_count": 11,
     "metadata": {},
     "output_type": "execute_result"
    }
   ],
   "source": [
    "fixture_endpoint = f\"{base_url}/fixtures/\"\n",
    "\n",
    "# Get fixture data\n",
    "fixtures_data = client.get(fixture_endpoint).json()\n",
    "\n",
    "# Display the first entry from the fixtures data\n",
    "fixtures_data[0]"
   ]
  },
  {
   "cell_type": "markdown",
   "id": "3c76a83b",
   "metadata": {},
   "source": [
    "## FPL News Searcher Tool"
   ]
  },
  {
   "cell_type": "code",
   "execution_count": 13,
   "id": "c560e5c4",
   "metadata": {},
   "outputs": [],
   "source": [
    "from dotenv import load_dotenv, find_dotenv\n",
    "import os\n",
    "from langchain_community.tools import TavilySearchResults"
   ]
  },
  {
   "cell_type": "code",
   "execution_count": 14,
   "id": "0b7db627",
   "metadata": {},
   "outputs": [],
   "source": [
    "api_key = os.getenv(\"TAVILY_API_KEY\")"
   ]
  },
  {
   "cell_type": "code",
   "execution_count": 15,
   "id": "ef7bc59a",
   "metadata": {},
   "outputs": [],
   "source": [
    "# Load environment variables\n",
    "_ = load_dotenv()\n",
    "\n",
    "# Create tavily search tool instance\n",
    "tavily = TavilySearchResults(\n",
    "    max_results=5,\n",
    "    search_depth=\"advanced\",\n",
    ")"
   ]
  },
  {
   "cell_type": "markdown",
   "id": "76ceb7c0",
   "metadata": {},
   "source": [
    "### Testing search on sample queries"
   ]
  },
  {
   "cell_type": "code",
   "execution_count": 17,
   "id": "225a8c31",
   "metadata": {},
   "outputs": [
    {
     "data": {
      "text/plain": [
       "[{'title': 'Premier League Football - Latest news, results, stats & transfers - BBC',\n",
       "  'url': 'https://www.bbc.com/sport/football/premier-league',\n",
       "  'content': \"Stephen: Hopefully, this shows we don't have to sell our best players to survive financially. This is a massive statement of intent. He is a key player that we need to keep and continue to develop. Future captain!\\n\\n   Tom: I'm very glad we kept a talent like Jarrad - he is one of my favourite players in this Everton team and brings confidence to the defence. He drives the team on and on, and I think he should be captain when Seamus Coleman leaves. [...] Andy: Calvert-Lewin has done a job for the last few seasons but if we're going to escape the relegation battles, we need to find a striker who will deliver more and push us up the table. Shake hands and wish him the best.\\n\\n    Chris: It's a shame we couldn't hold on to him for one more season as a squad player with a generous contract until we could get a new striker. [...] Ben: Strand Larsen had a decent start to his Wolves career but he really kicked into gear after Vitor Pereira arrived. Excellent news he is staying - looks a reliable goalscorer and his physical presence helps dictate the shape of the team.\\n\\n   Allan: Tall, strong and clinical in front of goal. If he gets the service, I'm sure he will add many more goals to his tally. Very pleased to see him become a permanent signing.\\n\\n   Reuben: Yeah, viva Larsen!\",\n",
       "  'score': 0.5227632},\n",
       " {'title': 'English Premier League News, Stats, Scores - ESPN',\n",
       "  'url': 'https://www.espn.com/soccer/league/_/name/eng.1',\n",
       "  'content': \"| TEAM | GP | W | D | L | GD | P |\\n| --- | --- | --- | --- | --- | --- | --- |\\n| Liverpool | 36 | 25 | 8 | 3 | +46 | 83 |\\n| Arsenal | 36 | 18 | 14 | 4 | +33 | 68 |\\n| Newcastle United | 36 | 20 | 6 | 10 | +23 | 66 |\\n| Manchester City | 36 | 19 | 8 | 9 | +24 | 65 |\\n| Chelsea | 36 | 18 | 9 | 9 | +19 | 63 |\\n| Aston Villa | 36 | 18 | 9 | 9 | +7 | 63 |\\n| Nottingham Forest | 36 | 18 | 8 | 10 | +12 | 62 |\\n| Brentford | 36 | 16 | 7 | 13 | +10 | 55 | [...] | Brighton & Hove Albion | 36 | 14 | 13 | 9 | +3 | 55 |\\n| AFC Bournemouth | 36 | 14 | 11 | 11 | +12 | 53 |\\n| Fulham | 36 | 14 | 9 | 13 | +1 | 51 |\\n| Crystal Palace | 36 | 12 | 13 | 11 | \\\\-2 | 49 |\\n| Everton | 36 | 9 | 15 | 12 | \\\\-5 | 42 |\\n| Wolverhampton Wanderers | 36 | 12 | 5 | 19 | \\\\-13 | 41 |\\n| West Ham United | 36 | 10 | 10 | 16 | \\\\-17 | 40 |\\n| Manchester United | 36 | 10 | 9 | 17 | \\\\-11 | 39 |\\n| Tottenham Hotspur | 36 | 11 | 5 | 20 | +4 | 38 | [...] Menu\\n\\nESPN\\n-----------------------------\\n\\n   \\n\\n11hESPN\\n\\nTransfer rumors, news: Real Madrid keeping tabs on Romero\\n================================================================================================================================\\n\\nReal Madrid are already looking at more defenders ahead of Xabi Alonso's impending move as new manager. Transfer Talk has the latest news, gossip and rumors.\\n\\n\\n\\n18h\\n\\n\\n\\n21h\\n\\n\\n\\n1d\\n\\n\\n\\n1d\\n\\n\\n\\n2d\\n\\n\\n\\n2d\\n\\n\\n\\n2d\\n\\nPremier League Standings\\n========================\",\n",
       "  'score': 0.38401142},\n",
       " {'title': 'Latest Premier League Football Team News & Features',\n",
       "  'url': 'https://www.premierleague.com/en/news',\n",
       "  'content': 'Copilot logo\\n\\n# \\n\\n## Latest News\\n\\n## Transfers\\n\\n## Features\\n\\n## Fantasy Premier League\\n\\n## Broadcast\\n\\n## Communities\\n\\n## Media Release\\n\\n## Fixtures\\n\\n## Awards\\n\\n## Talking Tactics\\n\\n## Youth\\n\\nADB\\nBarclays_Sponsor\\nCocaCola_2526_Partner\\n\\nTopps_2526_Partner',\n",
       "  'score': 0.36357963},\n",
       " {'title': 'Premier League News - Latest News & Highlights - Sky Sports',\n",
       "  'url': 'https://www.skysports.com/premier-league-news',\n",
       "  'content': 'Football16/05/25 4:17pm\\n\\n#### Salah on Slot, stats, his new contract and the Ballon d\\'Or\\n\\nMo Salah sat down with Gary Neville to reflect on Liverpool\\'s Premier League title win.\\n\\nImage 22Image 23\\n\\nLiverpool16/05/25 4:25pm\\n\\n#### Salah: Trent didn\\'t deserve the boos\\n\\nMohamed Salah says Liverpool fans were wrong to boo Trent Alexander-Arnold and insists the right-back deserves \"the best farewell\" for all he has done for his boyhood club.\\n\\nImage 24Image 25\\n\\nLewis Jones15/05/25 7:00pm [...] Filters\\n\\n#### Content type\\n\\n   News\\n   Features\\n\\nImage 2: Conor Bradley has signed a new Liverpool contract. Credit: LiverpoolImage 3\\n\\nLiverpool17/05/25 2:45pm\\n\\n#### Bradley signs new Liverpool contract ahead of Trent exit\\n\\nLiverpool have handed Conor Bradley a new four-year contract to keep him at Anfield until 2029.\\n\\nImage 4: Image 5\\n\\nTransfer headlines01/05/25 3:00pm\\n\\n#### Palace latest: Eagles soar into Europa League with FA Cup win [...] Image 8: Kevin De Bruyne shows frustration as time winds down on Manchester City at WembleyImage 9\\n\\nFootball17/05/25 6:14pm\\n\\n#### Man City\\'s route back to the top is far from clear\\n\\nMan City\\'s season goes from bad to worse with FA Cup final loss to Crystal Palace - now they must salvage top-five finish\\n\\nImage 10: Boubacar Kamara is mobbed after scoring against TottenhamImage 11\\n\\nAdam Bate16/05/25 9:25pm\\n\\n#### Villa into Champions League spots after win over Spurs',\n",
       "  'score': 0.33222425},\n",
       " {'title': 'Premier League Football News, Fixtures, Scores & Results',\n",
       "  'url': 'https://www.premierleague.com/',\n",
       "  'content': \"myPremierLeague: A new way to personalise your experienceREVEALED: Salah and Haaland's prices for 2025/26 FantasyPremier League club kits for 2025/26All you need to know about changes to FPL for 2025/26Win a signed Iliman Ndiaye Everton shirt ahead of Summer SeriesPremier League clubs' pre-season fixtures and resultsArteta discusses Arsenal's new signings and potential additionsPremier League Summer Transfers 2025/26The People's View: Neal's storyKyle Walker-Peters' first interview after [...] Premier League Football News, Fixtures, Scores & Results\\n\\nSkip to main content\\n\\n- Premier League\\n- Shop\\n- About Us\\n- Football & Community\\n- Events\\n- Other Competitions\\n- Media\\n- Summer Series\\n\\nMore\\n\\nCopilot logo\\n\\n- Matches\\n- Table\\n- Statistics\\n- Fantasy\\n  - Fantasy Premier League\\n  - Fantasy Draft\\n  - Fantasy Challenge\\n- News\\n- Players\\n- Clubs\\n- Video\\n\\nMore\\n\\nSign in\\n\\nSign inSign in\\n\\n- Home\\n- Matches\\n- Table\\n- Statistics\\n- Fantasy & Gaming [...] More Than A GamePremier League continues police partnership to build safer and more inclusive communities\\n\\nMore Than A GamePremier League Primary Stars shine at football tournament\\n\\nMore Than A GameBilly's story: Premier League Kicks changes people's lives\\n\\nMore Than A GamePremier League Inspires: Helping to create social change\\n\\nCommunityChristiansen: Premier League Inspires participants will help change society\",\n",
       "  'score': 0.26176873}]"
      ]
     },
     "execution_count": 17,
     "metadata": {},
     "output_type": "execute_result"
    }
   ],
   "source": [
    "results = tavily.invoke({\"query\": \"Premier league team news press conference\"})\n",
    "results"
   ]
  },
  {
   "cell_type": "code",
   "execution_count": 24,
   "id": "be071dcd",
   "metadata": {},
   "outputs": [
    {
     "data": {
      "text/plain": [
       "[{'title': 'Club by Club Injuries Article - Premier League',\n",
       "  'url': 'https://www.premierleague.com/en/news/4242565/club-by-club-injuries-article',\n",
       "  'content': 'Copilot logo\\n\\n# Club by Club Injuries Article\\n\\nSee which players are missing from every team, with our injury list guide to all 20 clubs and FPL team news\\n\\nSee all the players injured for each of the 20 Premier League clubs, with key news for managers in Fantasy Premier League ahead of the next Gameweek.\\n\\nLast updated: 16:16 BST, 3 August 2025.\\n\\n## Arsenal',\n",
       "  'score': 0.6824261},\n",
       " {'title': 'Premier FPL Injuries - YouTube',\n",
       "  'url': 'https://www.youtube.com/c/PremierInjuries1',\n",
       "  'content': '### Premier League Injury News | Jamie Vardy Injury Update | Leicester City Injuries | FPL TIPS GW 9\\n\\n5.7K views 3 years ago\\n\\nImage 21 7:04 7:04 Now playing\\n\\nImage 22\\n\\n### Premier League Injury News | Raphinha Injury Update | Leeds Injuries | FPL TIPS Gameweek 9\\n\\n5.2K views 3 years ago\\n\\nImage 23 7:42 7:42 Now playing\\n\\nImage 24\\n\\n### FPL Injuries | GW10 Premier League Injury Update (RAPHINHA FIT?) | Carabao Cup Injury Highlights | Carabao Cup Injury Highlights\")\\n\\n4.8K views 3 years ago [...] ### NEW Premier League Concussion Protocols: EVERYTHING YOU NEED TO KNOW\\n\\n363 views 1 year ago\\n\\nImage 10 8:03 8:03 Now playing\\n\\nImage 11\\n\\n### FPL Injuries | Premier League Injury Update & ALL INJURY NEWS | FPL GW4\\n\\n1.1K views 1 year ago\\n\\nImage 12 8:23 8:23 Now playing\\n\\nImage 13\\n\\n### FPL GW3 Preview | Fantasy Premier League Stats Show | FPL Tips 2023/24\\n\\n665 views 1 year ago\\n\\nImage 14 8:32 8:32 Now playing\\n\\nImage 15\\n\\n### FPL Injuries | James Maddison Injury Update & ALL INJURY NEWS | FPL GW3 [...] Image 25 5:27 5:27 Now playing\\n\\nImage 26\\n\\n### Stuart Dallas Injury Analysis | FPL Injuries | Premier League Injuries\\n\\n4.6K views 3 years ago\\n\\nImage 27 8:32 8:32 Now playing\\n\\nImage 28\\n\\n### FPL Injuries | James Maddison Injury Update & ALL INJURY NEWS | FPL GW3\\n\\n4.1K views 1 year ago\\n\\nImage 29 33:48 33:48 Now playing\\n\\nImage 30\\n\\n### Preview 2021/22: Wolverhampton Wanderers ( With Tim Spiers)\")\\n\\n3.7K views 3 years ago\\n\\nShorts\\n------\\n\\nImage 31',\n",
       "  'score': 0.6557114},\n",
       " {'title': 'Premier League Injuries & Suspensions | Injury News - Sportsgambler',\n",
       "  'url': 'https://www.sportsgambler.com/injuries/football/england-premier-league/',\n",
       "  'content': 'Issa Kabore D---Upper arm 2025-08-22\\n\\nPosition: Defender Matches: -Goals: -Assists: -Expected Return: 2025-08-22\\n\\nImage 16: bet365 LogoWolverhampton vs Man City 1:+600 X:+350 2:-238 Bet Now!T&Cs apply, Gamble Responsibly 18+\\n\\n### Man United\\n\\nType Name Position Matches Goals Assists Info Expected Return\\n\\nMarcus Rashford F---Thigh-\\n\\nPosition: Forward Matches: -Goals: -Assists: -Expected Return: -\\n\\nNoussair Mazraoui D---Thigh-\\n\\nPosition: Defender Matches: -Goals: -Assists: -Expected Return: - [...] Image 6: bet365 LogoLiverpool vs Bournemouth 1:-263 X:+425 2:+600 Bet Now!T&Cs apply, Gamble Responsibly 18+\\n\\n### Brentford\\n\\nType Name Position Matches Goals Assists Info Expected Return\\n\\nVitaly Janelt M---Ankle 2025-08-04\\n\\nPosition: Midfielder Matches: -Goals: -Assists: -Expected Return: 2025-08-04\\n\\nMyles Peart-Harris M---Low back-\\n\\nPosition: Midfielder Matches: -Goals: -Assists: -Expected Return: -\\n\\nFabio Carvalho F---Shoulder- [...] Position: Forward Matches: -Goals: -Assists: -Expected Return: -\\n\\nLewis Dobbin F---Muscle-\\n\\nPosition: Forward Matches: -Goals: -Assists: -Expected Return: -\\n\\nImage 5: bet365 LogoAston Villa vs Newcastle 1:+135 X:+250 2:+188 Bet Now!T&Cs apply, Gamble Responsibly 18+\\n\\n### Bournemouth\\n\\nType Name Position Matches Goals Assists Info Expected Return\\n\\nLewis Cook M---Red card (direct)2025-08-15\\n\\nPosition: Midfielder Matches: -Goals: -Assists: -Expected Return: 2025-08-15\\n\\nAlex Scott M---Other-',\n",
       "  'score': 0.6530611},\n",
       " {'title': 'English Premier League Injured & Suspended List - Football',\n",
       "  'url': 'https://www.betinf.com/england_injured.htm',\n",
       "  'content': \"updated\\n   player name (position)\\n   games played\\n   goals - assists\\n   Injury\\n   status\\n       ?+ likely to play\\n       ? status uncertain\\n       ?- unlikely to play\\n       - will not play\\n       s suspended\\n\\nLast updated 30.6.2025 05:37 GMT\\n\\nNews - injuries\\n---------------\\n\\n### Nicolas Jackson hit with two-match ban\\n\\n25.6.25 Chelsea [...] | Date | Player | GP | G-A | Injury | Status |\\n| --- | --- | --- | --- | --- | --- |\\n| 25.6 | Albert Sambi Lokonga (M) |  |  | Ankle |  |\\n| 25.6 | Reiss Nelson (F) | 1 | 0-0 | Hamstring |  |\\n| 20.5 | William Saliba (D) | 35 | 2-0 | Hamstring |  |\\n| 12.5 | Jurrien Timber (D) | 30 | 1-3 | Ankle |  |\\n| 2.4 | Gabriel Magalhaes (D) | 28 | 3-1 | Hamstring |  |\\n| 13.1 | Gabriel Jesus (F) | 17 | 3-0 | Knee |  |\\n| 26.10 | Takehiro Tomiyasu (D) | 1 | 0-0 | Knee |  |\\n\\n### Aston Villa [...] ### Guardiola rules out Rodri and Stones as starters vs Al Ain\\n\\n22.6.25 Man City\\n\\nPep Guardiola confirmed Rodri and John Stones won't start against Al Ain in Manchester City's second Club World Cup group match, though both are improving in training. Rodri, recovering from a long-term knee injury, may play limited minutes, while Stones is nearing full fitness after a lengthy absence.\\n\\n### Gravenberch suspended for Premier League opener\\n\\n19.6.25 Liverpool\",\n",
       "  'score': 0.62330866},\n",
       " {'title': 'Fantasy Premier League Player Availability, Injuries & Eligibility',\n",
       "  'url': 'https://fantasy.premierleague.com/the-scout/player-news',\n",
       "  'content': \"| Player | News |\\n| --- | --- |\\n| Wolves ChiwomeWolvesFWD | Knee injury - Unknown return date |\\n| West Ham SummervilleWest HamMID | Hamstring injury - Unknown return date |\\n| Spurs KulusevskiSpursMID | Knee injury - Unknown return date |\\n| Spurs DragusinSpursDEF | Knee injury - Unknown return date |\\n| Sunderland O'NienSunderlandDEF | Shoulder injury - Expected back 13 Sep |\\n| Sunderland HjeldeSunderlandDEF | Achilles injury - Expected back 13 Sep | [...] | Crystal Palace DoucouréCrystal PalaceMID | Knee injury - Unknown return date |\\n| Crystal Palace Chadi RiadCrystal PalaceDEF | Knee injury - Unknown return date |\\n| Chelsea N.JacksonChelseaFWD | Suspended until 22 Aug |\\n| Chelsea MudrykChelseaMID | Suspended - unknown return date |\\n| Bournemouth Enes ÜnalBournemouthFWD | Knee injury - Unknown return date |\\n| Bournemouth CookBournemouthMID | Suspended until 30 Aug |\\n| Aston Villa MartinezAston VillaGKP | Suspended until 23 Aug | [...] | Sunderland CirkinSunderlandDEF | Wrist Injury - Expected back 13 Jul |\\n| Sunderland AleseSunderlandDEF | Shoulder injury - Expected back 13 Sep |\\n| Nott'm Forest DominguezNott'm ForestMID | Knee injury - Expected back 04 Oct |\\n| Man Utd OnanaMan UtdGKP | Hamstring injury - 50% chance of playing |\\n| Man City KovačićMan CityMID | Achilles injury - Expected back 13 Sep |\\n| Liverpool GravenberchLiverpoolMID | Suspended until 25 Aug |\\n| Leeds BijolLeedsDEF | Suspended until 23 Aug |\",\n",
       "  'score': 0.6202772}]"
      ]
     },
     "execution_count": 24,
     "metadata": {},
     "output_type": "execute_result"
    }
   ],
   "source": [
    "tavily.invoke({\"query\": \"FPL injury updates this week\"})"
   ]
  },
  {
   "cell_type": "code",
   "execution_count": 23,
   "id": "e77782a8",
   "metadata": {},
   "outputs": [
    {
     "data": {
      "text/plain": [
       "[{'title': 'Premier FPL Injuries - YouTube',\n",
       "  'url': 'https://www.youtube.com/c/PremierInjuries1',\n",
       "  'content': '### Premier League Injury News | Jamie Vardy Injury Update | Leicester City Injuries | FPL TIPS GW 9\\n\\n5.7K views 3 years ago\\n\\nImage 21 7:04 7:04 Now playing\\n\\nImage 22\\n\\n### Premier League Injury News | Raphinha Injury Update | Leeds Injuries | FPL TIPS Gameweek 9\\n\\n5.2K views 3 years ago\\n\\nImage 23 7:42 7:42 Now playing\\n\\nImage 24\\n\\n### FPL Injuries | GW10 Premier League Injury Update (RAPHINHA FIT?) | Carabao Cup Injury Highlights | Carabao Cup Injury Highlights\")\\n\\n4.8K views 3 years ago [...] ### NEW Premier League Concussion Protocols: EVERYTHING YOU NEED TO KNOW\\n\\n363 views 1 year ago\\n\\nImage 10 8:03 8:03 Now playing\\n\\nImage 11\\n\\n### FPL Injuries | Premier League Injury Update & ALL INJURY NEWS | FPL GW4\\n\\n1.1K views 1 year ago\\n\\nImage 12 8:23 8:23 Now playing\\n\\nImage 13\\n\\n### FPL GW3 Preview | Fantasy Premier League Stats Show | FPL Tips 2023/24\\n\\n665 views 1 year ago\\n\\nImage 14 8:32 8:32 Now playing\\n\\nImage 15\\n\\n### FPL Injuries | James Maddison Injury Update & ALL INJURY NEWS | FPL GW3 [...] 4.1K views 1 year ago\\n\\nImage 16 13:46 13:46 Now playing\\n\\nImage 17\\n\\n### FPL Injuries | Reece James Injury? Kevin De Bruyne Injury Update & ALL INJURY NEWS | FPL GW2\\n\\n959 views 1 year ago\\n\\nImage 18\\n\\nPopular videos\\n--------------------------------------------------------------------------------------------------------------------------------------------------------------------------------------------------------------------------------------------------\\n\\nImage 19 7:06 7:06 Now playing\\n\\nImage 20',\n",
       "  'score': 0.73299384},\n",
       " {'title': 'Fantasy Premier League Player Availability, Injuries & Eligibility',\n",
       "  'url': 'https://fantasy.premierleague.com/the-scout/player-news',\n",
       "  'content': \"| Sunderland CirkinSunderlandDEF | Wrist Injury - Expected back 13 Jul |\\n| Sunderland AleseSunderlandDEF | Shoulder injury - Expected back 13 Sep |\\n| Nott'm Forest DominguezNott'm ForestMID | Knee injury - Expected back 04 Oct |\\n| Man Utd OnanaMan UtdGKP | Hamstring injury - 50% chance of playing |\\n| Man City KovačićMan CityMID | Achilles injury - Expected back 13 Sep |\\n| Liverpool GravenberchLiverpoolMID | Suspended until 25 Aug |\\n| Leeds BijolLeedsDEF | Suspended until 23 Aug | [...] | Player | News |\\n| --- | --- |\\n| Wolves ChiwomeWolvesFWD | Knee injury - Unknown return date |\\n| West Ham SummervilleWest HamMID | Hamstring injury - Unknown return date |\\n| Spurs KulusevskiSpursMID | Knee injury - Unknown return date |\\n| Spurs DragusinSpursDEF | Knee injury - Unknown return date |\\n| Sunderland O'NienSunderlandDEF | Shoulder injury - Expected back 13 Sep |\\n| Sunderland HjeldeSunderlandDEF | Achilles injury - Expected back 13 Sep | [...] | Crystal Palace DoucouréCrystal PalaceMID | Knee injury - Unknown return date |\\n| Crystal Palace Chadi RiadCrystal PalaceDEF | Knee injury - Unknown return date |\\n| Chelsea N.JacksonChelseaFWD | Suspended until 22 Aug |\\n| Chelsea MudrykChelseaMID | Suspended - unknown return date |\\n| Bournemouth Enes ÜnalBournemouthFWD | Knee injury - Unknown return date |\\n| Bournemouth CookBournemouthMID | Suspended until 30 Aug |\\n| Aston Villa MartinezAston VillaGKP | Suspended until 23 Aug |\",\n",
       "  'score': 0.6737291},\n",
       " {'title': 'Premier League Injuries & Suspensions | Injury News - Sportsgambler',\n",
       "  'url': 'https://www.sportsgambler.com/injuries/football/england-premier-league/',\n",
       "  'content': 'Yerson Mosquera D---Cruciate ligame 2025-07-28\\n\\nPosition: Defender Matches: -Goals: -Assists: -Expected Return: 2025-07-28\\n\\nFabio Silva F---Groin 2025-08-08\\n\\nPosition: Forward Matches: -Goals: -Assists: -Expected Return: 2025-08-08\\n\\nSam Johnstone G---Other-\\n\\nPosition: Goalkeeper Matches: -Goals: -Assists: -Expected Return: -\\n\\nSasa Kalajdzic F---Knee-\\n\\nPosition: Forward Matches: -Goals: -Assists: -Expected Return: - [...] ### Fantasy Premier League Injuries [...] ### Fantasy Premier League Injuries',\n",
       "  'score': 0.66621506},\n",
       " {'title': 'EPL Injury Table - Premier Injuries',\n",
       "  'url': 'https://www.premierinjuries.com/injury-table.php',\n",
       "  'content': \"The latest player injuries, suspensions and absences in the English Premier League, from the most comprehensive source of football injury statistics.\\n\\nBREAKING NEWS [...] | Player Gabriel Fernando de Jesus | Reason Knee Injury | Further Detail Jan 14: 'Further to being substituted during our match with Man United, Gabriel Jesus has received extensive assessments, which have confirmed that he has sustained an injury to the ACL in his left knee.' Player Page ▸ | Potential Return 22/11/2025 | Condition Not Available | Status Ruled Out | TRACK | [...] | Player Conor Townsend | Reason Thigh Injury | Further Detail May 23: 'Conor is not too far away, but it doesn't look like he'll make it for the weekend.' | Potential Return 02/06/2025 | Condition Not Available | Status Ruled Out | TRACK |\\n| Player Samuel Szmodics | Reason Ankle/Foot Injury | Further Detail May 23: 'Sammie is back training with the group, but we have to decide on availability.' Player Page ▸ | Potential Return 25/05/2025 | Condition Late Fitness Test | Status 50% | TRACK |\",\n",
       "  'score': 0.43165663},\n",
       " {'title': 'Injury Expert (@PremierInjuries) / X',\n",
       "  'url': 'https://x.com/premierinjuries?lang=en',\n",
       "  'content': 'The Premier League Injury Review 2023-24. The numbers are in… Image 24: 🔹 The Citizens’ variance over the previous five-years is the smallest in the top flight. #data@PremierInjuries#isoK24#MCFC  4-epl-season-injury-review…\\n\\n3\\n\\n3\\n\\n24\\n\\n32K\\n\\nNew to X?\\n---------\\n\\nSign up now to get your own personalized timeline!\\n\\nSign up with Apple\\n\\nCreate account\\n\\nBy signing up, you agree to the Terms of Service and Privacy Policy, including Cookie Use.\\n\\nTerms of Service\\n\\n|\\n\\nPrivacy Policy\\n\\n|\\n\\nCookie Policy\\n\\n| [...] Published Time: Mon, 30 Jun 2025 21:20:14 GMT\\n\\nInjury Expert (@PremierInjuries) / X\\n\\n===============\\n\\nDon’t miss what’s happening\\n\\nPeople on X are the first to know.\\n\\nLog in\\n\\nSign up\\n\\n #LCFC Expected Return: 28-12-2020 Status: 75% \\n\\n4\\n\\n29\\n\\n51\\n\\n. #AFC#MCFC\\n\\nQuote\\n\\nImage 23\\n\\nBen Dinnery\\n\\n@BenDinnery\\n\\n·\\n\\nMay 24, 2024 [...] Accessibility\\n\\n|\\n\\nAds info\\n\\n|\\n\\nMore\\n\\n© 2025 X Corp.',\n",
       "  'score': 0.1321896}]"
      ]
     },
     "execution_count": 23,
     "metadata": {},
     "output_type": "execute_result"
    }
   ],
   "source": [
    "tavily.invoke(\"FPL injury news\")"
   ]
  },
  {
   "cell_type": "code",
   "execution_count": 25,
   "id": "77bd9427",
   "metadata": {},
   "outputs": [
    {
     "data": {
      "text/plain": [
       "[{'title': 'Premier League Team News - Predicted Starting Lineups',\n",
       "  'url': 'https://www.fantasyfootballpundit.com/fantasy-premier-league-team-news/',\n",
       "  'content': '| Player | Position | Starting % |\\n| --- | --- | --- |\\n| Nick Pope | GK | 95% |\\n| Tino Livramento | RB | 90% |\\n| Dan Burn | LB | 90% |\\n| Fabian Schar | CB | 90% |\\n| Sven Botman | CB | 70% |\\n| Bruno Guimaraes | CM | 90% |\\n| Sandro Tonali | CM | 90% |\\n| Joe Willock | CM | 80% |\\n| Jacob Murphy | RF | 80% |\\n| Anthony Gordon | LF | 80% |\\n| Alexander Isak | CF | 60% | [...] | Player | Position | Starting % |\\n| --- | --- | --- |\\n| Dean Henderson | GK | 95% |\\n| Daniel Munoz | RWB | 90% |\\n| Tyrick Mitchell | LWB | 90% |\\n| Chris Richards | CB | 90% |\\n| Joel Ward | CB | 80% |\\n| Maxence Lacroix | CB | 90% |\\n| Will Hughes | CM | 80% |\\n| Daichi Kamada | CM | 80% |\\n| Ismaila Sarr | RF | 80% |\\n| Eberechi Eze | LF | 80% |\\n| Jean-Philippe Mateta | CF | 70% | [...] | Player | Position | Starting % |\\n| --- | --- | --- |\\n| Ederson Moraes | GK | 70% |\\n| Matheus Nunes | RB | 50% |\\n| Josko Gvardiol | LB | 80% |\\n| Manuel Akanji | CB | 60% |\\n| Ruben Dias | CB | 80% |\\n| Bernardo Silva | DCM | 80% |\\n| Ilkay Gundogan | DCM | 60% |\\n| Kevin De Bruyne | ACM | 60% |\\n| Omar Marmoush | RM | 90% |\\n| Jeremy Doku | LM | 60% |\\n| Erling Haaland | CF | 80% |',\n",
       "  'score': 0.8687491},\n",
       " {'title': 'Premier League Injuries & Suspensions | Injury News - Sportsgambler',\n",
       "  'url': 'https://www.sportsgambler.com/injuries/football/england-premier-league/',\n",
       "  'content': 'Image 14: bet365 LogoLeeds vs Everton 1:+150 X:+240 2:+170 Bet Now!T&Cs apply, Gamble Responsibly 18+\\n\\n### Liverpool\\n\\nType Name Position Matches Goals Assists Info Expected Return\\n\\nRyan Gravenberch M---Red card (direct)2025-08-23\\n\\nPosition: Midfielder Matches: -Goals: -Assists: -Expected Return: 2025-08-23\\n\\nBen Doak F---Thigh-\\n\\nPosition: Forward Matches: -Goals: -Assists: -Expected Return: -\\n\\nStefan Bajcetic M---Other-\\n\\nPosition: Midfielder Matches: -Goals: -Assists: -Expected Return: - [...] Position: Defender Matches: -Goals: -Assists: -Expected Return: 2025-07-14\\n\\nImage 12: bet365 LogoLeeds vs Everton 1:+150 X:+240 2:+170 Bet Now!T&Cs apply, Gamble Responsibly 18+\\n\\n### Fulham\\n\\nType Name Position Matches Goals Assists Info Expected Return\\n\\nAntonee Robinson D---Knee-\\n\\nPosition: Defender Matches: -Goals: -Assists: -Expected Return: -\\n\\nRodrigo Muniz F---Calf-\\n\\nPosition: Forward Matches: -Goals: -Assists: -Expected Return: -\\n\\nHarrison Reed M---Calf- [...] Yerson Mosquera D---Cruciate ligame 2025-07-28\\n\\nPosition: Defender Matches: -Goals: -Assists: -Expected Return: 2025-07-28\\n\\nFabio Silva F---Groin 2025-08-08\\n\\nPosition: Forward Matches: -Goals: -Assists: -Expected Return: 2025-08-08\\n\\nSam Johnstone G---Other-\\n\\nPosition: Goalkeeper Matches: -Goals: -Assists: -Expected Return: -\\n\\nSasa Kalajdzic F---Knee-\\n\\nPosition: Forward Matches: -Goals: -Assists: -Expected Return: -',\n",
       "  'score': 0.5709301},\n",
       " {'title': 'MY PREMIER LEAGUE PREDICTIONS 25/26 - YouTube',\n",
       "  'url': 'https://www.youtube.com/watch?v=Np-g3o_S8jA',\n",
       "  'content': 'MY PREMIER LEAGUE PREDICTIONS 25/26 Today Matt SB predicts the premier league 25/26 table including Liverpool, Manchester United, Arsenal,',\n",
       "  'score': 0.559411},\n",
       " {'title': 'Premier League team news and predicted lineups for Gameweek 38',\n",
       "  'url': 'https://www.fantasyfootballhub.co.uk/premier-league-predicted-lineups',\n",
       "  'content': \"Ben Crellin's PlannerBen Crellin's FPL CalendarJossy's Planner\\n\\nExpert Reveals\\n\\nEXPERT REVEALS\\n\\nFPL SalahBigManBakarFPL MatthewRich ClarkeFPL HeisenbergFergiHollyJian BatraHub AI TeamJonas Sand LabakkBen Crellin\\n\\nContent\\n\\nARTICLES\\n\\nGW TipsLatest FPL ArticlesPredicted Lineups & Team NewsBest CaptainBlank & Double Gameweek GuideChip Strategy GuideHow to Play FPL\\nMEDIA\\n\\nVideosThe Green ArrowTFF Podcast\\nFORMATS\\n\\nFPLTelegraphSun Dream TeamSleeper\\n\\nMore\\n\\nSERVICES\\n\\nWhatsApp GroupUltra\\nSUPPORT [...] Published Time: 2025-05-24T18:30:50+00:00\\n\\nFPL team news and predicted lineups for Gameweek 38\\n\\n===============\\n\\nNew to Hub?Enjoy a 7 Day Free Trial!→\\n\\nImage 1Image 2: Fantasy Football Hub\\n\\nMy Team\\n\\nMY TEAM\\n\\nPick & RatingAI TransfersAI TeamsLive RankMini-Leagues & Awards\\n\\nToolbox\\n\\nTOOLS\\n\\nOPTA StatsPlayer Points PredictionsAssistant Manager Points PredictionsFixture AnalyserPlayer ComparisonPrice ChangesPlayer ProfilesMatch CentreFPL Live Rank\\nCALENDARS & PLANNERS [...] Premier League team news and predicted lineups for Gameweek 38\\n==============================================================\\n\\nFPLConnect | Sat 24 May 2025\\n\\nImage 7: Premier League team news and predicted lineups for Gameweek 38\\n\\nExclusive Content\\n\\n·\\nFor members only\\n\\n### Unlock this exclusive members' content\\n\\nJoin the Hub today for a 30% discount\\n\\nRead now with a 7 Day Free Trial\\n\\nAlready a member?Log in\\n\\nCommunity & tools\\n-----------------\\n\\nFooter\\n------\\n\\n### Tools\",\n",
       "  'score': 0.521886},\n",
       " {'title': 'EPL Injury Table - Premier Injuries',\n",
       "  'url': 'https://www.premierinjuries.com/injury-table.php',\n",
       "  'content': \"Iraola has previously expressed doubts over a return before the end of the season. Enes Unal and Ryan Christie are out. Dean Huijsen did face Man City (GW37) despite reaching an agreement to join Real Madrid.ASTON VILLA: Jacob Ramsey returns after serving a one-match ban. Marcus Rashford is not available, while a calf injury threatens to keep Youri Tielemans on the sidelines.CHELSEA: Enzo Maresca 0n Christopher Nkunku... 'He is working with us in the last days...' Marc Guiu has also rejoined [...] Iraola has previously expressed doubts over a return before the end of the season. Enes Unal and Ryan Christie are out. Dean Huijsen did face Man City (GW37) despite reaching an agreement to join Real Madrid.ASTON VILLA: Jacob Ramsey returns after serving a one-match ban. Marcus Rashford is not available, while a calf injury threatens to keep Youri Tielemans on the sidelines.CHELSEA: Enzo Maresca 0n Christopher Nkunku... 'He is working with us in the last days...' Marc Guiu has also rejoined [...] bit of sickness in the camp, and a few are struggling with that.'BRIGHTON & HOVE ALBION: Georginio Rutter will not make the game… the forward has been sidelined since suffering an ankle ligament injury back in March. Joao Pedro will also miss out again… the Brighton boss confirms a disciplinary matter that is being dealt with internally. BRENTFORD: Aaron Hickey will return to the squad on Sunday... 'The team is looking good. Everyone that was available for the last game is available again...\",\n",
       "  'score': 0.44044575}]"
      ]
     },
     "execution_count": 25,
     "metadata": {},
     "output_type": "execute_result"
    }
   ],
   "source": [
    "tavily.invoke(\"Premier League lineup predictions\")"
   ]
  },
  {
   "cell_type": "code",
   "execution_count": null,
   "id": "690175f4",
   "metadata": {},
   "outputs": [],
   "source": []
  }
 ],
 "metadata": {
  "kernelspec": {
   "display_name": "fpl-gaffer",
   "language": "python",
   "name": "python3"
  },
  "language_info": {
   "codemirror_mode": {
    "name": "ipython",
    "version": 3
   },
   "file_extension": ".py",
   "mimetype": "text/x-python",
   "name": "python",
   "nbconvert_exporter": "python",
   "pygments_lexer": "ipython3",
   "version": "3.13.5"
  }
 },
 "nbformat": 4,
 "nbformat_minor": 5
}
