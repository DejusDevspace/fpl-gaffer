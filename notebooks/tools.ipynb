{
 "cells": [
  {
   "cell_type": "markdown",
   "id": "63676945",
   "metadata": {},
   "source": [
    "# Creating and Testing Tools for the FPL Gaffer"
   ]
  },
  {
   "cell_type": "markdown",
   "id": "f8dd74ff",
   "metadata": {},
   "source": [
    "## FPL API Data Retrieval Tool"
   ]
  },
  {
   "cell_type": "code",
   "execution_count": 1,
   "id": "f2fd8a4c",
   "metadata": {},
   "outputs": [],
   "source": [
    "import httpx"
   ]
  },
  {
   "cell_type": "code",
   "execution_count": 2,
   "id": "48462c61",
   "metadata": {},
   "outputs": [],
   "source": [
    "base_url = \"https://fantasy.premierleague.com/api\"\n",
    "client = httpx.Client()"
   ]
  },
  {
   "cell_type": "markdown",
   "id": "b60f2b9f",
   "metadata": {},
   "source": [
    "### Retrieving Bootstrap Data"
   ]
  },
  {
   "cell_type": "code",
   "execution_count": 3,
   "id": "9b5cbd6e",
   "metadata": {},
   "outputs": [
    {
     "data": {
      "text/plain": [
       "dict_keys(['chips', 'events', 'game_settings', 'game_config', 'phases', 'teams', 'total_players', 'element_stats', 'element_types', 'elements'])"
      ]
     },
     "execution_count": 3,
     "metadata": {},
     "output_type": "execute_result"
    }
   ],
   "source": [
    "# Retrieve bootstrap data from FPL API endpoint\n",
    "bootstrap_endpoint = f\"{base_url}/bootstrap-static/\"\n",
    "response = client.get(bootstrap_endpoint)\n",
    "\n",
    "# Ensure the request was successful\n",
    "response.raise_for_status()\n",
    "response_data = response.json()\n",
    "\n",
    "# Display the keys of the response data\n",
    "response_data.keys()"
   ]
  },
  {
   "cell_type": "markdown",
   "id": "a5d6f4d4",
   "metadata": {},
   "source": [
    "### Getting Player Data"
   ]
  },
  {
   "cell_type": "code",
   "execution_count": 4,
   "id": "fa0c2ab2",
   "metadata": {},
   "outputs": [
    {
     "name": "stdout",
     "output_type": "stream",
     "text": [
      "ID: 1, Name: Raya, Team: 1, Position: 1\n",
      "ID: 2, Name: Arrizabalaga, Team: 1, Position: 1\n",
      "ID: 3, Name: Hein, Team: 1, Position: 1\n",
      "ID: 4, Name: Setford, Team: 1, Position: 1\n",
      "ID: 5, Name: Gabriel, Team: 1, Position: 2\n",
      "ID: 6, Name: Saliba, Team: 1, Position: 2\n",
      "ID: 7, Name: Calafiori, Team: 1, Position: 2\n",
      "ID: 8, Name: J.Timber, Team: 1, Position: 2\n",
      "ID: 9, Name: Kiwior, Team: 1, Position: 2\n",
      "ID: 10, Name: Lewis-Skelly, Team: 1, Position: 2\n"
     ]
    }
   ],
   "source": [
    "player_data = response_data[\"elements\"]\n",
    "\n",
    "# Display the first 10 players\n",
    "for player in player_data[:10]:\n",
    "    print(f\"ID: {player[\"id\"]}, Name: {player[\"web_name\"]}, Team: {player[\"team\"]}, Position: {player[\"element_type\"]}\")"
   ]
  },
  {
   "cell_type": "markdown",
   "id": "f10d34bd",
   "metadata": {},
   "source": [
    "### Getting Gameweek Data"
   ]
  },
  {
   "cell_type": "code",
   "execution_count": 7,
   "id": "74d87a0f",
   "metadata": {},
   "outputs": [
    {
     "data": {
      "text/plain": [
       "{'gamweek': 1, 'deadline': '2025-08-15T17:30:00Z', 'finished': False}"
      ]
     },
     "execution_count": 7,
     "metadata": {},
     "output_type": "execute_result"
    }
   ],
   "source": [
    "gw_data = response_data.get(\"events\", [])\n",
    "\n",
    "# Since no gameweek is active now as the season hasn't started,\n",
    "# let's get the other data than current gameweek\n",
    "\n",
    "gw_dict = {}\n",
    "for gw in gw_data:\n",
    "    # Get the details for the firt gameweek\n",
    "    gw_dict[\"gamweek\"] = gw.get(\"id\") if gw else None\n",
    "    gw_dict[\"deadline\"] = gw.get(\"deadline_time\") if gw else None\n",
    "    gw_dict[\"finished\"] = gw.get(\"finished\") if gw else None\n",
    "    break\n",
    "\n",
    "gw_dict"
   ]
  },
  {
   "cell_type": "markdown",
   "id": "b375f84b",
   "metadata": {},
   "source": [
    "### Getting Fixture Data"
   ]
  },
  {
   "cell_type": "code",
   "execution_count": 11,
   "metadata": {},
   "outputs": [
    {
     "data": {
      "text/plain": [
       "{'code': 2561895,\n",
       " 'event': 1,\n",
       " 'finished': False,\n",
       " 'finished_provisional': False,\n",
       " 'id': 1,\n",
       " 'kickoff_time': '2025-08-15T19:00:00Z',\n",
       " 'minutes': 0,\n",
       " 'provisional_start_time': False,\n",
       " 'started': False,\n",
       " 'team_a': 4,\n",
       " 'team_a_score': None,\n",
       " 'team_h': 12,\n",
       " 'team_h_score': None,\n",
       " 'stats': [],\n",
       " 'team_h_difficulty': 3,\n",
       " 'team_a_difficulty': 5,\n",
       " 'pulse_id': 124791}"
      ]
     },
     "execution_count": 11,
     "metadata": {},
     "output_type": "execute_result"
    }
   ],
   "source": [
    "fixture_endpoint = f\"{base_url}/fixtures/\"\n",
    "\n",
    "# Get fixture data\n",
    "fixtures_data = client.get(fixture_endpoint).json()\n",
    "\n",
    "# Display the first entry from the fixtures data\n",
    "fixtures_data[0]"
   ]
  },
  {
   "cell_type": "markdown",
   "id": "3c76a83b",
   "metadata": {},
   "source": [
    "## FPL News Searcher Tool"
   ]
  },
  {
   "cell_type": "code",
   "execution_count": 13,
   "id": "c560e5c4",
   "metadata": {},
   "outputs": [],
   "source": [
    "from dotenv import load_dotenv, find_dotenv\n",
    "import os\n",
    "from langchain_community.tools import TavilySearchResults"
   ]
  },
  {
   "cell_type": "code",
   "execution_count": 14,
   "id": "0b7db627",
   "metadata": {},
   "outputs": [],
   "source": [
    "api_key = os.getenv(\"TAVILY_API_KEY\")"
   ]
  },
  {
   "cell_type": "code",
   "execution_count": 15,
   "id": "ef7bc59a",
   "metadata": {},
   "outputs": [],
   "source": [
    "# Load environment variables\n",
    "_ = load_dotenv()\n",
    "\n",
    "# Create tavily search tool instance\n",
    "tavily = TavilySearchResults(\n",
    "    max_results=5,\n",
    "    search_depth=\"advanced\",\n",
    ")"
   ]
  },
  {
   "cell_type": "code",
   "execution_count": 16,
   "id": "225a8c31",
   "metadata": {},
   "outputs": [
    {
     "data": {
      "text/plain": [
       "[{'title': 'Premier League Football - Latest news, results, stats & transfers - BBC',\n",
       "  'url': 'https://www.bbc.com/sport/football/premier-league',\n",
       "  'content': \"Stephen: Hopefully, this shows we don't have to sell our best players to survive financially. This is a massive statement of intent. He is a key player that we need to keep and continue to develop. Future captain!\\n\\n   Tom: I'm very glad we kept a talent like Jarrad - he is one of my favourite players in this Everton team and brings confidence to the defence. He drives the team on and on, and I think he should be captain when Seamus Coleman leaves. [...] Andy: Calvert-Lewin has done a job for the last few seasons but if we're going to escape the relegation battles, we need to find a striker who will deliver more and push us up the table. Shake hands and wish him the best.\\n\\n    Chris: It's a shame we couldn't hold on to him for one more season as a squad player with a generous contract until we could get a new striker. [...] Ben: Strand Larsen had a decent start to his Wolves career but he really kicked into gear after Vitor Pereira arrived. Excellent news he is staying - looks a reliable goalscorer and his physical presence helps dictate the shape of the team.\\n\\n   Allan: Tall, strong and clinical in front of goal. If he gets the service, I'm sure he will add many more goals to his tally. Very pleased to see him become a permanent signing.\\n\\n   Reuben: Yeah, viva Larsen!\",\n",
       "  'score': 0.5227632},\n",
       " {'title': 'English Premier League News, Stats, Scores - ESPN',\n",
       "  'url': 'https://www.espn.com/soccer/league/_/name/eng.1',\n",
       "  'content': \"| TEAM | GP | W | D | L | GD | P |\\n| --- | --- | --- | --- | --- | --- | --- |\\n| Liverpool | 36 | 25 | 8 | 3 | +46 | 83 |\\n| Arsenal | 36 | 18 | 14 | 4 | +33 | 68 |\\n| Newcastle United | 36 | 20 | 6 | 10 | +23 | 66 |\\n| Manchester City | 36 | 19 | 8 | 9 | +24 | 65 |\\n| Chelsea | 36 | 18 | 9 | 9 | +19 | 63 |\\n| Aston Villa | 36 | 18 | 9 | 9 | +7 | 63 |\\n| Nottingham Forest | 36 | 18 | 8 | 10 | +12 | 62 |\\n| Brentford | 36 | 16 | 7 | 13 | +10 | 55 | [...] | Brighton & Hove Albion | 36 | 14 | 13 | 9 | +3 | 55 |\\n| AFC Bournemouth | 36 | 14 | 11 | 11 | +12 | 53 |\\n| Fulham | 36 | 14 | 9 | 13 | +1 | 51 |\\n| Crystal Palace | 36 | 12 | 13 | 11 | \\\\-2 | 49 |\\n| Everton | 36 | 9 | 15 | 12 | \\\\-5 | 42 |\\n| Wolverhampton Wanderers | 36 | 12 | 5 | 19 | \\\\-13 | 41 |\\n| West Ham United | 36 | 10 | 10 | 16 | \\\\-17 | 40 |\\n| Manchester United | 36 | 10 | 9 | 17 | \\\\-11 | 39 |\\n| Tottenham Hotspur | 36 | 11 | 5 | 20 | +4 | 38 | [...] Menu\\n\\nESPN\\n-----------------------------\\n\\n   \\n\\n11hESPN\\n\\nTransfer rumors, news: Real Madrid keeping tabs on Romero\\n================================================================================================================================\\n\\nReal Madrid are already looking at more defenders ahead of Xabi Alonso's impending move as new manager. Transfer Talk has the latest news, gossip and rumors.\\n\\n\\n\\n18h\\n\\n\\n\\n21h\\n\\n\\n\\n1d\\n\\n\\n\\n1d\\n\\n\\n\\n2d\\n\\n\\n\\n2d\\n\\n\\n\\n2d\\n\\nPremier League Standings\\n========================\",\n",
       "  'score': 0.38401142},\n",
       " {'title': 'Latest Premier League Football Team News & Features',\n",
       "  'url': 'https://www.premierleague.com/en/news',\n",
       "  'content': 'Copilot logo\\n\\n# \\n\\n## Latest News\\n\\n## Transfers\\n\\n## Features\\n\\n## Fantasy Premier League\\n\\n## Broadcast\\n\\n## Communities\\n\\n## Media Release\\n\\n## Fixtures\\n\\n## Awards\\n\\n## Talking Tactics\\n\\n## Youth\\n\\nADB\\nBarclays_Sponsor\\nCocaCola_2526_Partner\\n\\nTopps_2526_Partner',\n",
       "  'score': 0.36357963},\n",
       " {'title': 'Premier League News - Latest News & Highlights - Sky Sports',\n",
       "  'url': 'https://www.skysports.com/premier-league-news',\n",
       "  'content': 'Football16/05/25 4:17pm\\n\\n#### Salah on Slot, stats, his new contract and the Ballon d\\'Or\\n\\nMo Salah sat down with Gary Neville to reflect on Liverpool\\'s Premier League title win.\\n\\nImage 22Image 23\\n\\nLiverpool16/05/25 4:25pm\\n\\n#### Salah: Trent didn\\'t deserve the boos\\n\\nMohamed Salah says Liverpool fans were wrong to boo Trent Alexander-Arnold and insists the right-back deserves \"the best farewell\" for all he has done for his boyhood club.\\n\\nImage 24Image 25\\n\\nLewis Jones15/05/25 7:00pm [...] Filters\\n\\n#### Content type\\n\\n   News\\n   Features\\n\\nImage 2: Conor Bradley has signed a new Liverpool contract. Credit: LiverpoolImage 3\\n\\nLiverpool17/05/25 2:45pm\\n\\n#### Bradley signs new Liverpool contract ahead of Trent exit\\n\\nLiverpool have handed Conor Bradley a new four-year contract to keep him at Anfield until 2029.\\n\\nImage 4: Image 5\\n\\nTransfer headlines01/05/25 3:00pm\\n\\n#### Palace latest: Eagles soar into Europa League with FA Cup win [...] Image 8: Kevin De Bruyne shows frustration as time winds down on Manchester City at WembleyImage 9\\n\\nFootball17/05/25 6:14pm\\n\\n#### Man City\\'s route back to the top is far from clear\\n\\nMan City\\'s season goes from bad to worse with FA Cup final loss to Crystal Palace - now they must salvage top-five finish\\n\\nImage 10: Boubacar Kamara is mobbed after scoring against TottenhamImage 11\\n\\nAdam Bate16/05/25 9:25pm\\n\\n#### Villa into Champions League spots after win over Spurs',\n",
       "  'score': 0.33222425},\n",
       " {'title': 'Premier League Football News, Fixtures, Scores & Results',\n",
       "  'url': 'https://www.premierleague.com/',\n",
       "  'content': \"myPremierLeague: A new way to personalise your experienceREVEALED: Salah and Haaland's prices for 2025/26 FantasyPremier League club kits for 2025/26All you need to know about changes to FPL for 2025/26Win a signed Iliman Ndiaye Everton shirt ahead of Summer SeriesPremier League clubs' pre-season fixtures and resultsArteta discusses Arsenal's new signings and potential additionsPremier League Summer Transfers 2025/26The People's View: Neal's storyKyle Walker-Peters' first interview after [...] Premier League Football News, Fixtures, Scores & Results\\n\\nSkip to main content\\n\\n- Premier League\\n- Shop\\n- About Us\\n- Football & Community\\n- Events\\n- Other Competitions\\n- Media\\n- Summer Series\\n\\nMore\\n\\nCopilot logo\\n\\n- Matches\\n- Table\\n- Statistics\\n- Fantasy\\n  - Fantasy Premier League\\n  - Fantasy Draft\\n  - Fantasy Challenge\\n- News\\n- Players\\n- Clubs\\n- Video\\n\\nMore\\n\\nSign in\\n\\nSign inSign in\\n\\n- Home\\n- Matches\\n- Table\\n- Statistics\\n- Fantasy & Gaming [...] More Than A GamePremier League continues police partnership to build safer and more inclusive communities\\n\\nMore Than A GamePremier League Primary Stars shine at football tournament\\n\\nMore Than A GameBilly's story: Premier League Kicks changes people's lives\\n\\nMore Than A GamePremier League Inspires: Helping to create social change\\n\\nCommunityChristiansen: Premier League Inspires participants will help change society\",\n",
       "  'score': 0.26176873}]"
      ]
     },
     "execution_count": 16,
     "metadata": {},
     "output_type": "execute_result"
    }
   ],
   "source": [
    "tavily.invoke({\"query\": \"Premier league team news press conference\"})"
   ]
  },
  {
   "cell_type": "code",
   "execution_count": null,
   "id": "6d51f9a6",
   "metadata": {},
   "outputs": [],
   "source": []
  },
  {
   "cell_type": "code",
   "execution_count": null,
   "id": "be071dcd",
   "metadata": {},
   "outputs": [],
   "source": []
  }
 ],
 "metadata": {
  "kernelspec": {
   "display_name": "fpl-gaffer",
   "language": "python",
   "name": "python3"
  },
  "language_info": {
   "codemirror_mode": {
    "name": "ipython",
    "version": 3
   },
   "file_extension": ".py",
   "mimetype": "text/x-python",
   "name": "python",
   "nbconvert_exporter": "python",
   "pygments_lexer": "ipython3",
   "version": "3.13.5"
  }
 },
 "nbformat": 4,
 "nbformat_minor": 5
}
