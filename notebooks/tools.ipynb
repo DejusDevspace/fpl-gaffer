{
 "cells": [
  {
   "cell_type": "markdown",
   "id": "63676945",
   "metadata": {},
   "source": [
    "# Creating and Testing Tools for the FPL Gaffer"
   ]
  },
  {
   "cell_type": "markdown",
   "id": "f8dd74ff",
   "metadata": {},
   "source": [
    "## Data Search and Retreival Tool"
   ]
  },
  {
   "cell_type": "code",
   "execution_count": null,
   "id": "9b5cbd6e",
   "metadata": {
    "vscode": {
     "languageId": "plaintext"
    }
   },
   "outputs": [],
   "source": []
  },
  {
   "cell_type": "code",
   "execution_count": null,
   "id": "fa0c2ab2",
   "metadata": {
    "vscode": {
     "languageId": "plaintext"
    }
   },
   "outputs": [],
   "source": []
  }
 ],
 "metadata": {
  "language_info": {
   "name": "python"
  }
 },
 "nbformat": 4,
 "nbformat_minor": 5
}
