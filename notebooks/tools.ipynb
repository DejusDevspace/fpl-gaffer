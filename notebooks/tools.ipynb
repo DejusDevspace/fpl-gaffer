{
 "cells": [
  {
   "cell_type": "markdown",
   "id": "63676945",
   "metadata": {},
   "source": [
    "# Creating and Testing Tools for the FPL Gaffer"
   ]
  },
  {
   "cell_type": "markdown",
   "id": "f8dd74ff",
   "metadata": {},
   "source": [
    "## FPL API Data Retrieval Tool"
   ]
  },
  {
   "cell_type": "code",
   "execution_count": 1,
   "id": "f2fd8a4c",
   "metadata": {},
   "outputs": [],
   "source": [
    "import httpx"
   ]
  },
  {
   "cell_type": "code",
   "execution_count": 2,
   "id": "48462c61",
   "metadata": {},
   "outputs": [],
   "source": [
    "base_url = \"https://fantasy.premierleague.com/api\"\n",
    "client = httpx.Client()"
   ]
  },
  {
   "cell_type": "markdown",
   "id": "b60f2b9f",
   "metadata": {},
   "source": [
    "### Retrieving Bootstrap Data"
   ]
  },
  {
   "cell_type": "code",
   "execution_count": 3,
   "id": "9b5cbd6e",
   "metadata": {},
   "outputs": [
    {
     "data": {
      "text/plain": [
       "dict_keys(['chips', 'events', 'game_settings', 'game_config', 'phases', 'teams', 'total_players', 'element_stats', 'element_types', 'elements'])"
      ]
     },
     "execution_count": 3,
     "metadata": {},
     "output_type": "execute_result"
    }
   ],
   "source": [
    "# Retrieve bootstrap data from FPL API endpoint\n",
    "bootstrap_endpoint = f\"{base_url}/bootstrap-static/\"\n",
    "response = client.get(bootstrap_endpoint)\n",
    "\n",
    "# Ensure the request was successful\n",
    "response.raise_for_status()\n",
    "response_data = response.json()\n",
    "\n",
    "# Display the keys of the response data\n",
    "response_data.keys()"
   ]
  },
  {
   "cell_type": "markdown",
   "id": "a5d6f4d4",
   "metadata": {},
   "source": [
    "### Getting Player Data"
   ]
  },
  {
   "cell_type": "code",
   "execution_count": 4,
   "id": "fa0c2ab2",
   "metadata": {},
   "outputs": [
    {
     "name": "stdout",
     "output_type": "stream",
     "text": [
      "ID: 1, Name: Raya, Team: 1, Position: 1\n",
      "ID: 2, Name: Arrizabalaga, Team: 1, Position: 1\n",
      "ID: 3, Name: Hein, Team: 1, Position: 1\n",
      "ID: 4, Name: Setford, Team: 1, Position: 1\n",
      "ID: 5, Name: Gabriel, Team: 1, Position: 2\n",
      "ID: 6, Name: Saliba, Team: 1, Position: 2\n",
      "ID: 7, Name: Calafiori, Team: 1, Position: 2\n",
      "ID: 8, Name: J.Timber, Team: 1, Position: 2\n",
      "ID: 9, Name: Kiwior, Team: 1, Position: 2\n",
      "ID: 10, Name: Lewis-Skelly, Team: 1, Position: 2\n"
     ]
    }
   ],
   "source": [
    "player_data = response_data[\"elements\"]\n",
    "\n",
    "# Display the first 10 players\n",
    "for player in player_data[:10]:\n",
    "    print(f\"ID: {player[\"id\"]}, Name: {player[\"web_name\"]}, Team: {player[\"team\"]}, Position: {player[\"element_type\"]}\")"
   ]
  },
  {
   "cell_type": "markdown",
   "id": "f10d34bd",
   "metadata": {},
   "source": [
    "### Getting Gameweek Data"
   ]
  },
  {
   "cell_type": "code",
   "execution_count": 7,
   "id": "74d87a0f",
   "metadata": {},
   "outputs": [
    {
     "data": {
      "text/plain": [
       "{'gamweek': 1, 'deadline': '2025-08-15T17:30:00Z', 'finished': False}"
      ]
     },
     "execution_count": 7,
     "metadata": {},
     "output_type": "execute_result"
    }
   ],
   "source": [
    "gw_data = response_data.get(\"events\", [])\n",
    "\n",
    "# Since no gameweek is active now as the season hasn't started,\n",
    "# let's get the other data than current gameweek\n",
    "\n",
    "gw_dict = {}\n",
    "for gw in gw_data:\n",
    "    # Get the details for the firt gameweek\n",
    "    gw_dict[\"gamweek\"] = gw.get(\"id\") if gw else None\n",
    "    gw_dict[\"deadline\"] = gw.get(\"deadline_time\") if gw else None\n",
    "    gw_dict[\"finished\"] = gw.get(\"finished\") if gw else None\n",
    "    break\n",
    "\n",
    "gw_dict"
   ]
  },
  {
   "cell_type": "markdown",
   "id": "b375f84b",
   "metadata": {},
   "source": [
    "### Getting Fixture Data"
   ]
  },
  {
   "cell_type": "code",
   "execution_count": 11,
   "metadata": {},
   "outputs": [
    {
     "data": {
      "text/plain": [
       "{'code': 2561895,\n",
       " 'event': 1,\n",
       " 'finished': False,\n",
       " 'finished_provisional': False,\n",
       " 'id': 1,\n",
       " 'kickoff_time': '2025-08-15T19:00:00Z',\n",
       " 'minutes': 0,\n",
       " 'provisional_start_time': False,\n",
       " 'started': False,\n",
       " 'team_a': 4,\n",
       " 'team_a_score': None,\n",
       " 'team_h': 12,\n",
       " 'team_h_score': None,\n",
       " 'stats': [],\n",
       " 'team_h_difficulty': 3,\n",
       " 'team_a_difficulty': 5,\n",
       " 'pulse_id': 124791}"
      ]
     },
     "execution_count": 11,
     "metadata": {},
     "output_type": "execute_result"
    }
   ],
   "source": [
    "fixture_endpoint = f\"{base_url}/fixtures/\"\n",
    "\n",
    "# Get fixture data\n",
    "fixtures_data = client.get(fixture_endpoint).json()\n",
    "\n",
    "# Display the first entry from the fixtures data\n",
    "fixtures_data[0]"
   ]
  },
  {
   "cell_type": "markdown",
   "id": "3c76a83b",
   "metadata": {},
   "source": [
    "## FPL News Searcher Tool"
   ]
  },
  {
   "cell_type": "code",
   "execution_count": 27,
   "id": "c560e5c4",
   "metadata": {},
   "outputs": [],
   "source": [
    "from dotenv import load_dotenv, find_dotenv\n",
    "import os\n",
    "from tavily import TavilyClient\n",
    "from langchain.document_loaders import UnstructuredURLLoader"
   ]
  },
  {
   "cell_type": "code",
   "execution_count": 29,
   "id": "a1069795",
   "metadata": {},
   "outputs": [],
   "source": [
    "# Load environment variables\n",
    "_ = load_dotenv()\n",
    "\n",
    "tavily_api_key = os.getenv(\"TAVILY_API_KEY\")\n",
    "\n",
    "# Creating search client\n",
    "tavily_client = TavilyClient(\n",
    "    api_key=tavily_api_key\n",
    ")"
   ]
  },
  {
   "cell_type": "markdown",
   "id": "76ceb7c0",
   "metadata": {},
   "source": [
    "### Testing search workflow with sample queries"
   ]
  },
  {
   "cell_type": "code",
   "execution_count": null,
   "id": "c0877b4f",
   "metadata": {},
   "outputs": [],
   "source": [
    "documents = []\n",
    "queries = [\n",
    "    \"Fantasy Premier League player injuries and suspensions\",\n",
    "    \"FPL Scout best tips and advice latest\",\n",
    "    \"FPL differential picks low ownership players latest\"\n",
    "]\n",
    "\n",
    "for query in queries:\n",
    "    # Get the tavily api search results for each query\n",
    "    response = tavily_client.search(\n",
    "        query=query,\n",
    "        max_results=3,\n",
    "        topic=\"news\",\n",
    "        include_raw_content=False\n",
    "    )\n",
    "\n",
    "    # Get the urls from the search results\n",
    "    urls = [item[\"url\"] for item in response[\"results\"]]\n",
    "\n",
    "    # Fetch and parse content from the URLs\n",
    "    loader = UnstructuredURLLoader(urls=urls)\n",
    "    docs = loader.load()\n",
    "\n",
    "    # Add metadata from tavily to each document\n",
    "    for i, doc in enumerate(docs):\n",
    "        doc.metadata.update({\n",
    "            \"source\": urls[i],\n",
    "            \"query\": query\n",
    "        })\n",
    "\n",
    "    # Added the docs to the document list\n",
    "    documents.extend(docs)\n"
   ]
  },
  {
   "cell_type": "code",
   "execution_count": 33,
   "id": "41cc6e24",
   "metadata": {},
   "outputs": [
    {
     "name": "stdout",
     "output_type": "stream",
     "text": [
      "NINE things we learned from weekend's pre-season matches\n",
      "\n",
      "Ben Bloom 04 Aug 2025\n",
      "\n",
      "Ben Bloom reports on the key takeaways following the latest round of fixtures\n",
      "\n",
      "Football writer Ben Bloom picks out the key takeaways from the previous weekend's matches.\n",
      "\n",
      "Manchester United were crowned the 2025 Premier League Summer Series champions, while Son Heung-min’s seemed to have played his final match as a Tottenham Hotspur player.\n",
      "\n",
      "Here are nine key takeaways from last weekend.\n",
      "\n",
      "Mbeumo and Cunha united without a No 9\n",
      "\n",
      "Much of the anticipation ahead of the new season at Old Trafford stems from the big-money signings of Bryan Mbeumo and Matheus Cunha.\n",
      "\n",
      "For the first time, in a 2-2 Premier League Summer Series draw against Everton the pair started a match together and impressed, despite neither putting their name on the scoresheet.\n",
      "\n",
      "While Mbeumo lined up on the right, it was interesting to see Cunha given an opportunity to play as something of a false 9. In truth, the front three, which also featured Bruno Fernandes, were incredibly fluid positionally.\n",
      "\n",
      "Both new signings caught the eye with their desire to drive at the Everton defence, while Mbeumo frequently showed his dangerous movement into channels.\n",
      "\n",
      "How the pair will be deployed in future depends on any further attacking signings United might make, but they showed just how important they will be.\n",
      "\n",
      "Arias scores on Wolves debut\n",
      "\n",
      "Dubbed the ‘‘Colombian Pele’’, Jhon Arias arrives at Molineux with high expectations. The former Fluminense winger picked up three Player-of-the-Match awards at the recent FIFA Club World Cup, earning a place in the team of the tournament.\n",
      "\n",
      "Despite only linking up with his new Wolverhampton Wanderers team-mates for the first time last Thursday, he did not disappoint when scoring on debut in a 2-1 defeat against Spanish side Girona.\n",
      "\n",
      "Having come off the bench, Arias found space between two defenders and showed his impressive physical presence to hold off both men before finishing well.\n",
      "\n",
      "Arias' goal v Girona\n",
      "\n",
      "Jhon Arias on target for the first time 🇨🇴🎯 pic.twitter.com/YCTzB0mw4S\n",
      "\n",
      "— Wolves (@Wolves) August 3, 2025\n",
      "\n",
      "“It’s amazing,” said the 27-year-old, playing in Europe for the first time after spending his career in his native Colombia and then Brazil.\n",
      "\n",
      "“The group received me good, and the coach. I’m really happy to be here. It was an amazing feeling, this moment, my first goal with the shirt of Wolves.”\n",
      "\n",
      "Maddison suffers ‘bad’ injury on Son’s likely farewell\n",
      "\n",
      "On a day that was supposed to be all about Son’s farewell, Tottenham Hotspur’s plans for the season were rocked by what Thomas Frank described as a “bad” injury for James Maddison right at the end of their 1-1 draw with Newcastle United in South Korea.\n",
      "\n",
      "The England international was carried off on a stretcher after going down unchallenged late in the game. Frank subsequently confirmed it was the same knee that had caused Maddison problems when unable to play in the UEFA Europa League final win last season.\n",
      "\n",
      "“I think sometimes in life and football things can be both beautiful and brutal – that’s what we got today,” said Frank. “It looks like with Madders a bad injury, and then on the other side unbelievable scenes for Son from his team-mates and the respect from the Newcastle players.”\n",
      "\n",
      "Son, who last week confirmed he would leave Spurs, was emotional playing in his home city of Seoul. He was given a standing ovation and guard of honour when substituted off.\n",
      "\n",
      "“It was a perfect moment,” he said. “Sharing these beautiful moments are something that I will never forget and I will always appreciate it. Spurs will always be in my heart.”\n",
      "\n",
      "See what Son had to say\n",
      "\n",
      "Sonny speaks after an emotional day 🤍 pic.twitter.com/RIXpRhSKck\n",
      "\n",
      "— Tottenham Hotspur (@SpursOfficial) August 3, 2025\n",
      "\n",
      "Do Forest have a goal problem?\n",
      "\n",
      "Last season’s biggest surprise package pulled off the coup of tying Morgan Gibbs-White down to a new long-term contract this summer, but things have not been as positive on the pitch.\n",
      "\n",
      "Across five pre-season outings so far, Nottingham Forest are yet to pick up a win, having scored just a solitary goal – a late consolation in a 3-1 defeat against Fulham. Their latest loss came against Birmingham City at the weekend.\n",
      "\n",
      "Chris Wood scored 20 Premier League goals last season and Nuno Espirito Santo has tried a few different options so far this summer, fielding Wood solo, trying new signing Igor Jesus in his place, and even deploying them both together, to no avail.\n",
      "\n",
      "They did not have a proper effort until half an hour into the 1-0 defeat against Birmingham. However, Wood is not concerned.\n",
      "\n",
      "“I wouldn’t be too worried about it,” he said. “We’re trying to work on other things we can add to our armoury throughout the season. We don’t want to be one-dimensional and play the same way every single time.”\n",
      "\n",
      "Mateta cannot stop scoring\n",
      "\n",
      "Some players star from their early days in football, while others take a bit longer to work their way to elite level. After falling out of favour in Germany, 28-year-old Jean-Philippe Mateta has been a man reborn under Oliver Glasner at Crystal Palace.\n",
      "\n",
      "The Frenchman scored 30 Premier League goals across the past two campaigns and is showing no signs of stopping ahead of the 2025/26 campaign.\n",
      "\n",
      "A double in a 3-1 win against German side Augsburg took his pre-season tally to four for Palace, after also finding the net against Crawley Town and Mainz.\n",
      "\n",
      "The striker showed deft close-control to turn his defender and find space for an excellent opener on Friday, before doubling his tally when lashing home from close range.\n",
      "\n",
      "Mateta's first goal v Augsburg\n",
      "\n",
      "How about that for one off the training ground 😮‍💨#CPFC pic.twitter.com/vE2iiHJm3m\n",
      "\n",
      "— Crystal Palace F.C. (@CPFC) August 1, 2025\n",
      "\n",
      "It is no wonder he is reportedly gathering suitors throughout the game. Palace fans will hope he remains at Selhurst Park for some time.\n",
      "\n",
      "Leader Xhaka can add steel to Sunderland\n",
      "\n",
      "It was quite the unexpected move when Sunderland announced the capture of former Arsenal man Granit Xhaka from Bayer Leverkusen last week.\n",
      "\n",
      "The 32-year-old knows precisely what it takes to play in the Premier League after seven years spent in north London. He also played UEFA Champions League football last season.\n",
      "\n",
      "Expectations were high for his Sunderland debut against Real Betis on Saturday and he did not disappoint.\n",
      "\n",
      "The Swiss midfielder wore the captain’s armband, led the pre-match huddle and looked to dictate proceedings from the outset, both in and out of possession.\n",
      "\n",
      "From that point onwards, he was Sunderland’s standout player, linking up play and exhibiting his trademark physicality in a tackle. He might also have registered an assist with a lovely floated pass had Simon Adingra not been ruled offside after putting the ball in the net.\n",
      "\n",
      "He looks certain to play a crucial role for the Premier League returners.\n",
      "\n",
      "Piroe continues striker audition\n",
      "\n",
      "Plenty of chatter surrounding Leeds United at the moment concerns their hunt for a new striker.\n",
      "\n",
      "Speaking after their 1-1 draw against Villarreal at the weekend, manager Daniel Farke said: “You could tell that in the offence we need a bit more quality. In all offensive positions, we need reinforcements to be ready for the Premier League. It’s not about the numbers. It’s about the quality of the players.”\n",
      "\n",
      "And yet, the line is currently being led by a man on a scoring streak. Joel Piroe was last season’s Championship highest scorer with 19 goals, and the Dutchman took his pre-season tally to four with another against the Spanish side.\n",
      "\n",
      "Piroe's goal v Villarreal\n",
      "\n",
      "🔥 Joel Piroe this pre-season! 1-1 pic.twitter.com/mIEljXcmJ7\n",
      "\n",
      "— Leeds United (@LUFC) August 2, 2025\n",
      "\n",
      "Sure, this one was a close-range tap-in, while another was a penalty. But Piroe is barely putting a foot wrong right now and should be full of confidence if deployed in Leeds’ opening league match against Everton.\n",
      "\n",
      "Brighton wait to unleash Greek striker duo\n",
      "\n",
      "Brighton & Hove Albion fans would be forgiven for their excitement after seeing the club reportedly spend somewhere in the region of £50million on Greek striker duo Stefanos Tzimas and Charalampos Kostoulas.\n",
      "\n",
      "However, six games into pre-season there has been no sign of the teenage pair, who are yet to feature in a matchday squad.\n",
      "\n",
      "Saturday saw Brighton play two matches against Southampton, with Danny Welbeck leading the line for the first (a 1-0 win, courtesy of Jeremy Sarmiento) and Georginio Rutter occupying the No 9 role in the second (a 2-2 draw, with both goals coming from Yankuba Minteh).\n",
      "\n",
      "“We don’t want to take any risks with the Greek guys,” explained Fabian Hurzeler. “They are still in an adapting phase, but they are already in team training, which is a positive thing.\n",
      "\n",
      "“We don’t want to risk an injury in that early phase of the season. We are very patient with them. We give them time that they can adapt to our training intensity.”\n",
      "\n",
      "Prepare for Diouf’s ‘power’ crosses\n",
      "\n",
      "Premier League fans might not be overly familiar with 20-year-old Senegalese left-back El Hadji Malick Diouf, but few summer signings have made as immediate an impact as him since moving to West Ham United from Slavia Prague last month.\n",
      "\n",
      "“He has only been here a few weeks but you would think he has been here years,” said Jarrod Bowen.\n",
      "\n",
      "Diouf stole the show in a 2-0 Premier League Summer Series win over AFC Bournemouth, delivering lethal crosses from the left that led to both goals scored by Niclas Fullkrug and Bowen.\n",
      "\n",
      "Bournemouth 0-2 West Ham highlights\n",
      "\n",
      "“I think it’s my power,” said Player of the Match Diouf, of his crossing ability. “It’s my power because we have good strikers, so every time I’m ready to get this kind of ball, so I just continue to give them this kind of cross. I think they will be happy to score goals like that. I think they’ll be happy, and I’ll be happy.”\n",
      "\n",
      "Diouf scored seven goals and provided three assists in the Czech top flight last season and relishes playing high up the pitch. Watch out for those crosses.\n",
      "\n",
      "Featured\n"
     ]
    }
   ],
   "source": [
    "print(documents[0].page_content)"
   ]
  },
  {
   "cell_type": "code",
   "execution_count": null,
   "id": "3d8ad6d0",
   "metadata": {},
   "outputs": [],
   "source": []
  }
 ],
 "metadata": {
  "kernelspec": {
   "display_name": "fpl-gaffer",
   "language": "python",
   "name": "python3"
  },
  "language_info": {
   "codemirror_mode": {
    "name": "ipython",
    "version": 3
   },
   "file_extension": ".py",
   "mimetype": "text/x-python",
   "name": "python",
   "nbconvert_exporter": "python",
   "pygments_lexer": "ipython3",
   "version": "3.13.5"
  }
 },
 "nbformat": 4,
 "nbformat_minor": 5
}
