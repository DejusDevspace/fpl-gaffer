{
 "cells": [
  {
   "cell_type": "markdown",
   "id": "63676945",
   "metadata": {},
   "source": [
    "# Creating and Testing Tools for the FPL Gaffer"
   ]
  },
  {
   "cell_type": "markdown",
   "id": "f8dd74ff",
   "metadata": {},
   "source": [
    "## FPL API Data Retrieval Tool"
   ]
  },
  {
   "cell_type": "code",
   "execution_count": 1,
   "id": "f2fd8a4c",
   "metadata": {},
   "outputs": [],
   "source": [
    "import httpx"
   ]
  },
  {
   "cell_type": "code",
   "execution_count": 2,
   "id": "48462c61",
   "metadata": {},
   "outputs": [],
   "source": [
    "base_url = \"https://fantasy.premierleague.com/api\"\n",
    "client = httpx.Client()"
   ]
  },
  {
   "cell_type": "markdown",
   "id": "b60f2b9f",
   "metadata": {},
   "source": [
    "### Retrieving Bootstrap Data"
   ]
  },
  {
   "cell_type": "code",
   "execution_count": 3,
   "id": "9b5cbd6e",
   "metadata": {},
   "outputs": [
    {
     "data": {
      "text/plain": [
       "dict_keys(['chips', 'events', 'game_settings', 'game_config', 'phases', 'teams', 'total_players', 'element_stats', 'element_types', 'elements'])"
      ]
     },
     "execution_count": 3,
     "metadata": {},
     "output_type": "execute_result"
    }
   ],
   "source": [
    "# Retrieve bootstrap data from FPL API endpoint\n",
    "bootstrap_endpoint = f\"{base_url}/bootstrap-static/\"\n",
    "response = client.get(bootstrap_endpoint)\n",
    "\n",
    "# Ensure the request was successful\n",
    "response.raise_for_status()\n",
    "response_data = response.json()\n",
    "\n",
    "# Display the keys of the response data\n",
    "response_data.keys()"
   ]
  },
  {
   "cell_type": "markdown",
   "id": "a5d6f4d4",
   "metadata": {},
   "source": [
    "### Getting Player Data"
   ]
  },
  {
   "cell_type": "code",
   "execution_count": 4,
   "id": "fa0c2ab2",
   "metadata": {},
   "outputs": [
    {
     "name": "stdout",
     "output_type": "stream",
     "text": [
      "ID: 1, Name: Raya, Team: 1, Position: 1\n",
      "ID: 2, Name: Arrizabalaga, Team: 1, Position: 1\n",
      "ID: 3, Name: Hein, Team: 1, Position: 1\n",
      "ID: 4, Name: Setford, Team: 1, Position: 1\n",
      "ID: 5, Name: Gabriel, Team: 1, Position: 2\n",
      "ID: 6, Name: Saliba, Team: 1, Position: 2\n",
      "ID: 7, Name: Calafiori, Team: 1, Position: 2\n",
      "ID: 8, Name: J.Timber, Team: 1, Position: 2\n",
      "ID: 9, Name: Kiwior, Team: 1, Position: 2\n",
      "ID: 10, Name: Lewis-Skelly, Team: 1, Position: 2\n"
     ]
    }
   ],
   "source": [
    "player_data = response_data[\"elements\"]\n",
    "\n",
    "# Display the first 10 players\n",
    "for player in player_data[:10]:\n",
    "    print(f\"ID: {player[\"id\"]}, Name: {player[\"web_name\"]}, Team: {player[\"team\"]}, Position: {player[\"element_type\"]}\")"
   ]
  },
  {
   "cell_type": "markdown",
   "id": "f10d34bd",
   "metadata": {},
   "source": [
    "### Getting Gameweek Data"
   ]
  },
  {
   "cell_type": "code",
   "execution_count": 7,
   "id": "74d87a0f",
   "metadata": {},
   "outputs": [
    {
     "data": {
      "text/plain": [
       "{'gamweek': 1, 'deadline': '2025-08-15T17:30:00Z', 'finished': False}"
      ]
     },
     "execution_count": 7,
     "metadata": {},
     "output_type": "execute_result"
    }
   ],
   "source": [
    "gw_data = response_data.get(\"events\", [])\n",
    "\n",
    "# Since no gameweek is active now as the season hasn't started,\n",
    "# let's get the other data than current gameweek\n",
    "\n",
    "gw_dict = {}\n",
    "for gw in gw_data:\n",
    "    # Get the details for the firt gameweek\n",
    "    gw_dict[\"gamweek\"] = gw.get(\"id\") if gw else None\n",
    "    gw_dict[\"deadline\"] = gw.get(\"deadline_time\") if gw else None\n",
    "    gw_dict[\"finished\"] = gw.get(\"finished\") if gw else None\n",
    "    break\n",
    "\n",
    "gw_dict"
   ]
  },
  {
   "cell_type": "markdown",
   "id": "b375f84b",
   "metadata": {},
   "source": [
    "### Getting Fixture Data"
   ]
  },
  {
   "cell_type": "code",
   "execution_count": 11,
   "metadata": {},
   "outputs": [
    {
     "data": {
      "text/plain": [
       "{'code': 2561895,\n",
       " 'event': 1,\n",
       " 'finished': False,\n",
       " 'finished_provisional': False,\n",
       " 'id': 1,\n",
       " 'kickoff_time': '2025-08-15T19:00:00Z',\n",
       " 'minutes': 0,\n",
       " 'provisional_start_time': False,\n",
       " 'started': False,\n",
       " 'team_a': 4,\n",
       " 'team_a_score': None,\n",
       " 'team_h': 12,\n",
       " 'team_h_score': None,\n",
       " 'stats': [],\n",
       " 'team_h_difficulty': 3,\n",
       " 'team_a_difficulty': 5,\n",
       " 'pulse_id': 124791}"
      ]
     },
     "execution_count": 11,
     "metadata": {},
     "output_type": "execute_result"
    }
   ],
   "source": [
    "fixture_endpoint = f\"{base_url}/fixtures/\"\n",
    "\n",
    "# Get fixture data\n",
    "fixtures_data = client.get(fixture_endpoint).json()\n",
    "\n",
    "# Display the first entry from the fixtures data\n",
    "fixtures_data[0]"
   ]
  },
  {
   "cell_type": "markdown",
   "id": "3c76a83b",
   "metadata": {},
   "source": [
    "## FPL News Searcher Tool"
   ]
  },
  {
   "cell_type": "code",
   "execution_count": 8,
   "id": "c560e5c4",
   "metadata": {},
   "outputs": [],
   "source": [
    "from dotenv import load_dotenv, find_dotenv\n",
    "import os\n",
    "from langchain_community.tools.tavily_search import TavilySearchResults"
   ]
  },
  {
   "cell_type": "code",
   "execution_count": 9,
   "id": "ef7bc59a",
   "metadata": {},
   "outputs": [],
   "source": [
    "# Load environment variables\n",
    "_ = load_dotenv()\n",
    "\n",
    "# Create tavily search tool instance\n",
    "tavily = TavilySearchResults(\n",
    "    max_results=5,\n",
    "    search_depth=\"advanced\",\n",
    ")"
   ]
  },
  {
   "cell_type": "code",
   "execution_count": 7,
   "id": "225a8c31",
   "metadata": {},
   "outputs": [
    {
     "data": {
      "text/plain": [
       "[{'title': 'FPL Scout: 2025/26 Season Preview - Yahoo Sports',\n",
       "  'url': 'https://sports.yahoo.com/article/fpl-scout-2025-26-season-111200196.html',\n",
       "  'content': \"By letting opponents have 233 efforts from distance, ‘simple’ stops were quickly accrued.\\n\\n### New changes to FPL\\n\\nRecent FPL announcements revealed a bunch of alterations and new point-scoring methods that will transform the 2025/26 game.\\n\\nPreviously strict assist rules have been relaxed, while there’s no more Assistant Manager chip. Instead, every squad gets two Wildcards, Free Hits, Bench Boosts and Triple Captains to use – one for each half of the season. [...] Manage your account\\n\\nSoccer\\nSoccer\\n\\n### Featured\\n\\nNFL\\nMLB\\nNBA\\nNHL\\nWNBA\\nGolf\\nNCAAF\\nTennis\\nFantasy Sports\\nDaily Draw\\n\\n### More\\n\\n### Yahoo! Sports Network\\n\\n...\\n\\nFantasy\\nFantasy\\nWatch\\nWatch\\nNetwork\\nNetwork\\n\\n# FPL Scout: 2025/26 Season Preview\\n\\nBrentford FC\\nOne Football\\nOne Football\\nFPL Scout: 2025/26 Season Preview\\n\\n### Brentford have teamed up with Fantasy Football Scout to help bring you hints, tips and advice during the 2025/26 Fantasy Premier League (FPL) season. [...] Isak exceeds 30% ownership, just like exciting new attacking midfielder Florian Wirtz (£8.5m).\\n\\nMeanwhile, the most-selected goalkeeper is Brentford's Caoimhín Kelleher (£4.5m). Priced nicely, he kept four clean sheets in 10 matches when filling in for Alisson (£5.5m) at Liverpool last term.\\n\\nFlekken was an example of how the west Londoners' playing style is ideal for collecting save points. The Bees conceded the second-most overall shots (647) but allowed the seventh-fewest big chances (80).\",\n",
       "  'score': 0.77792513},\n",
       " {'title': 'FPL Team News + Predicted Line-ups - Fantasy Football Scout',\n",
       "  'url': 'https://www.fantasyfootballscout.co.uk/team-news/',\n",
       "  'content': 'Our Team News page will house predicted line-ups for all 20 Premier League teams, also summarising the latest injury news from each club.',\n",
       "  'score': 0.6213807},\n",
       " {'title': 'FPL 2025/26 pre-season lessons for EVERY club - Premier League',\n",
       "  'url': 'https://www.premierleague.com/en/news/4364942/fantasy-premier-league-2025-26-pre-season-learnings-from-every-club',\n",
       "  'content': 'Still, midfield star Enzo Le Fee (£5.0m) has continued to impress - including from set-pieces - since making his move from Roma permanent, and there’s excitement around Simon Adingra (£5.5m) following his move from Brighton. The Ivory Coast international scored in Sunderland’s most recent loss to Hull City, assisted by fellow new winger Chemsdine Talbi (£5.0m). There’s also Habib Diarra (£5.5m), a Jobe Bellingham replacement who may have a shot at penalty-taking duties given his record for [...] Cole Palmer (£10.5m) looked to be back to his brilliant best against Paris Saint-Germain in the Club World Cup final. The same may be true of Marc Cucurella (£6.0m), whose attacking threat may make him worth the extra million over otherwise solid defensive colleagues like Levi Colwill (£5.0m). In midfield, Moises Caicedo (£5.5m) looks likely to benefit from the new defensive contribution points in FPL, and Enzo Fernandez (£6.5m) could be a reliable mid-priced option if he continues in his new [...] The Bees have only played one pre-season match so far, a 1-1 draw with Gil Vicente in Portugal. New goalkeeper Caoimhin Kelleher (£4.5m) has emerged as one of FPL’s most popular selections in his position. Kelleher got 45 minutes on his debut as new head coach Keith Andrews fielded a brand-new XI at the break.',\n",
       "  'score': 0.52100873},\n",
       " {'title': 'ALLABOUTFPL: Your one stop place for all FPL tips, FPL captain ...',\n",
       "  'url': 'https://allaboutfpl.com/',\n",
       "  'content': 'In this article, we help you pick the Best £4.0 Million FPL Defenders for the 2025/26 season based on Transfer news and stats. Tagged 4.0 fpl',\n",
       "  'score': 0.27327052},\n",
       " {'title': 'The Scout, Fantasy Football Tips & Advice',\n",
       "  'url': 'https://fantasy.premierleague.com/the-scout',\n",
       "  'content': 'Copilot logo\\nADB\\nBarclays_Sponsor\\nCocaCola_2526_Partner\\n\\nTopps_2526_Partner',\n",
       "  'score': 0.13435538}]"
      ]
     },
     "execution_count": 7,
     "metadata": {},
     "output_type": "execute_result"
    }
   ],
   "source": [
    "tavily.invoke({\"query\": \"FPL scout latest news\"})"
   ]
  },
  {
   "cell_type": "code",
   "execution_count": null,
   "id": "be071dcd",
   "metadata": {},
   "outputs": [],
   "source": []
  }
 ],
 "metadata": {
  "kernelspec": {
   "display_name": "fpl-gaffer",
   "language": "python",
   "name": "python3"
  },
  "language_info": {
   "codemirror_mode": {
    "name": "ipython",
    "version": 3
   },
   "file_extension": ".py",
   "mimetype": "text/x-python",
   "name": "python",
   "nbconvert_exporter": "python",
   "pygments_lexer": "ipython3",
   "version": "3.13.5"
  }
 },
 "nbformat": 4,
 "nbformat_minor": 5
}
