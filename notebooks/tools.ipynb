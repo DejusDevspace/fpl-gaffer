{
 "cells": [
  {
   "cell_type": "markdown",
   "id": "63676945",
   "metadata": {},
   "source": [
    "# Creating and Testing Tools for the FPL Gaffer"
   ]
  },
  {
   "cell_type": "markdown",
   "id": "f8dd74ff",
   "metadata": {},
   "source": [
    "## FPL API Data Retrieval Tool"
   ]
  },
  {
   "cell_type": "code",
   "execution_count": 1,
   "id": "f2fd8a4c",
   "metadata": {},
   "outputs": [],
   "source": [
    "import httpx"
   ]
  },
  {
   "cell_type": "code",
   "execution_count": 2,
   "id": "48462c61",
   "metadata": {},
   "outputs": [],
   "source": [
    "base_url = \"https://fantasy.premierleague.com/api\"\n",
    "client = httpx.Client()"
   ]
  },
  {
   "cell_type": "markdown",
   "id": "b60f2b9f",
   "metadata": {},
   "source": [
    "### Retrieving Bootstrap Data"
   ]
  },
  {
   "cell_type": "code",
   "execution_count": 3,
   "id": "9b5cbd6e",
   "metadata": {},
   "outputs": [
    {
     "data": {
      "text/plain": [
       "dict_keys(['chips', 'events', 'game_settings', 'game_config', 'phases', 'teams', 'total_players', 'element_stats', 'element_types', 'elements'])"
      ]
     },
     "execution_count": 3,
     "metadata": {},
     "output_type": "execute_result"
    }
   ],
   "source": [
    "# Retrieve bootstrap data from FPL API endpoint\n",
    "bootstrap_endpoint = f\"{base_url}/bootstrap-static/\"\n",
    "response = client.get(bootstrap_endpoint)\n",
    "\n",
    "# Ensure the request was successful\n",
    "response.raise_for_status()\n",
    "response_data = response.json()\n",
    "\n",
    "# Display the keys of the response data\n",
    "response_data.keys()"
   ]
  },
  {
   "cell_type": "markdown",
   "id": "a5d6f4d4",
   "metadata": {},
   "source": [
    "### Getting Player Data"
   ]
  },
  {
   "cell_type": "code",
   "execution_count": 4,
   "id": "fa0c2ab2",
   "metadata": {},
   "outputs": [
    {
     "name": "stdout",
     "output_type": "stream",
     "text": [
      "ID: 1, Name: Raya, Team: 1, Position: 1\n",
      "ID: 2, Name: Arrizabalaga, Team: 1, Position: 1\n",
      "ID: 3, Name: Hein, Team: 1, Position: 1\n",
      "ID: 4, Name: Setford, Team: 1, Position: 1\n",
      "ID: 5, Name: Gabriel, Team: 1, Position: 2\n",
      "ID: 6, Name: Saliba, Team: 1, Position: 2\n",
      "ID: 7, Name: Calafiori, Team: 1, Position: 2\n",
      "ID: 8, Name: J.Timber, Team: 1, Position: 2\n",
      "ID: 9, Name: Kiwior, Team: 1, Position: 2\n",
      "ID: 10, Name: Lewis-Skelly, Team: 1, Position: 2\n"
     ]
    }
   ],
   "source": [
    "player_data = response_data[\"elements\"]\n",
    "\n",
    "# Display the first 10 players\n",
    "for player in player_data[:10]:\n",
    "    print(f\"ID: {player[\"id\"]}, Name: {player[\"web_name\"]}, Team: {player[\"team\"]}, Position: {player[\"element_type\"]}\")"
   ]
  },
  {
   "cell_type": "markdown",
   "id": "f10d34bd",
   "metadata": {},
   "source": [
    "### Getting Gameweek Data"
   ]
  },
  {
   "cell_type": "code",
   "execution_count": 7,
   "id": "74d87a0f",
   "metadata": {},
   "outputs": [
    {
     "data": {
      "text/plain": [
       "{'gamweek': 1, 'deadline': '2025-08-15T17:30:00Z', 'finished': False}"
      ]
     },
     "execution_count": 7,
     "metadata": {},
     "output_type": "execute_result"
    }
   ],
   "source": [
    "gw_data = response_data.get(\"events\", [])\n",
    "\n",
    "# Since no gameweek is active now as the season hasn't started,\n",
    "# let's get the other data than current gameweek\n",
    "\n",
    "gw_dict = {}\n",
    "for gw in gw_data:\n",
    "    # Get the details for the firt gameweek\n",
    "    gw_dict[\"gamweek\"] = gw.get(\"id\") if gw else None\n",
    "    gw_dict[\"deadline\"] = gw.get(\"deadline_time\") if gw else None\n",
    "    gw_dict[\"finished\"] = gw.get(\"finished\") if gw else None\n",
    "    break\n",
    "\n",
    "gw_dict"
   ]
  },
  {
   "cell_type": "markdown",
   "id": "b375f84b",
   "metadata": {},
   "source": [
    "### Getting Fixture Data"
   ]
  },
  {
   "cell_type": "code",
   "execution_count": null,
   "metadata": {},
   "outputs": [],
   "source": []
  },
  {
   "cell_type": "code",
   "execution_count": null,
   "id": "45872093",
   "metadata": {},
   "outputs": [],
   "source": []
  },
  {
   "cell_type": "code",
   "execution_count": null,
   "id": "ee17ea05",
   "metadata": {},
   "outputs": [],
   "source": []
  }
 ],
 "metadata": {
  "kernelspec": {
   "display_name": "fpl-gaffer",
   "language": "python",
   "name": "python3"
  },
  "language_info": {
   "codemirror_mode": {
    "name": "ipython",
    "version": 3
   },
   "file_extension": ".py",
   "mimetype": "text/x-python",
   "name": "python",
   "nbconvert_exporter": "python",
   "pygments_lexer": "ipython3",
   "version": "3.13.5"
  }
 },
 "nbformat": 4,
 "nbformat_minor": 5
}
